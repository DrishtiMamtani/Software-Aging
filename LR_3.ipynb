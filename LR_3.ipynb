{
 "cells": [
  {
   "cell_type": "code",
   "execution_count": 59,
   "metadata": {},
   "outputs": [],
   "source": [
    "import pandas as pd \n",
    "import numpy as np\n",
    "from sklearn import preprocessing\n",
    "df=pd.read_excel(\"3.xlsx\",header=None)"
   ]
  },
  {
   "cell_type": "code",
   "execution_count": 60,
   "metadata": {},
   "outputs": [],
   "source": [
    "X=df[[65,63,64,73,70,74,71]].iloc[:][1:]"
   ]
  },
  {
   "cell_type": "code",
   "execution_count": 61,
   "metadata": {},
   "outputs": [],
   "source": [
    "y=df[82].iloc[:][1:]"
   ]
  },
  {
   "cell_type": "code",
   "execution_count": 62,
   "metadata": {},
   "outputs": [],
   "source": [
    "from sklearn.model_selection import train_test_split \n",
    "x_train, x_test, y_train, y_test = train_test_split(X, y, test_size=0.3, random_state=1) "
   ]
  },
  {
   "cell_type": "code",
   "execution_count": 63,
   "metadata": {},
   "outputs": [
    {
     "data": {
      "text/html": [
       "<div>\n",
       "<style scoped>\n",
       "    .dataframe tbody tr th:only-of-type {\n",
       "        vertical-align: middle;\n",
       "    }\n",
       "\n",
       "    .dataframe tbody tr th {\n",
       "        vertical-align: top;\n",
       "    }\n",
       "\n",
       "    .dataframe thead th {\n",
       "        text-align: right;\n",
       "    }\n",
       "</style>\n",
       "<table border=\"1\" class=\"dataframe\">\n",
       "  <thead>\n",
       "    <tr style=\"text-align: right;\">\n",
       "      <th></th>\n",
       "      <th>0</th>\n",
       "      <th>1</th>\n",
       "      <th>2</th>\n",
       "      <th>3</th>\n",
       "      <th>4</th>\n",
       "      <th>5</th>\n",
       "      <th>6</th>\n",
       "    </tr>\n",
       "  </thead>\n",
       "  <tbody>\n",
       "    <tr>\n",
       "      <th>0</th>\n",
       "      <td>11.58</td>\n",
       "      <td>10.11</td>\n",
       "      <td>10.11</td>\n",
       "      <td>1226.11</td>\n",
       "      <td>95.79</td>\n",
       "      <td>43.97</td>\n",
       "      <td>237.18</td>\n",
       "    </tr>\n",
       "    <tr>\n",
       "      <th>1</th>\n",
       "      <td>0.00</td>\n",
       "      <td>0.00</td>\n",
       "      <td>0.00</td>\n",
       "      <td>0.00</td>\n",
       "      <td>0.00</td>\n",
       "      <td>0.00</td>\n",
       "      <td>0.00</td>\n",
       "    </tr>\n",
       "    <tr>\n",
       "      <th>2</th>\n",
       "      <td>194.74</td>\n",
       "      <td>147.39</td>\n",
       "      <td>147.39</td>\n",
       "      <td>27868.39</td>\n",
       "      <td>1963.11</td>\n",
       "      <td>597.61</td>\n",
       "      <td>4585.63</td>\n",
       "    </tr>\n",
       "    <tr>\n",
       "      <th>3</th>\n",
       "      <td>82.89</td>\n",
       "      <td>73.76</td>\n",
       "      <td>73.76</td>\n",
       "      <td>20263.68</td>\n",
       "      <td>1177.21</td>\n",
       "      <td>154.74</td>\n",
       "      <td>2676.66</td>\n",
       "    </tr>\n",
       "    <tr>\n",
       "      <th>4</th>\n",
       "      <td>12.00</td>\n",
       "      <td>12.00</td>\n",
       "      <td>12.00</td>\n",
       "      <td>1212.00</td>\n",
       "      <td>110.00</td>\n",
       "      <td>62.00</td>\n",
       "      <td>270.00</td>\n",
       "    </tr>\n",
       "  </tbody>\n",
       "</table>\n",
       "</div>"
      ],
      "text/plain": [
       "        0       1       2         3        4       5        6\n",
       "0   11.58   10.11   10.11   1226.11    95.79   43.97   237.18\n",
       "1    0.00    0.00    0.00      0.00     0.00    0.00     0.00\n",
       "2  194.74  147.39  147.39  27868.39  1963.11  597.61  4585.63\n",
       "3   82.89   73.76   73.76  20263.68  1177.21  154.74  2676.66\n",
       "4   12.00   12.00   12.00   1212.00   110.00   62.00   270.00"
      ]
     },
     "execution_count": 63,
     "metadata": {},
     "output_type": "execute_result"
    }
   ],
   "source": [
    "x_train.reset_index(inplace = True, drop = True) \n",
    "x_test.reset_index(inplace = True, drop = True) \n",
    "y_train.reset_index(inplace = True, drop = True) \n",
    "y_test.reset_index(inplace = True, drop = True) \n",
    "x_train.columns=[0,1,2,3,4,5,6]\n",
    "n=x_train.count()[0]\n",
    "x_train.head()"
   ]
  },
  {
   "cell_type": "code",
   "execution_count": 64,
   "metadata": {},
   "outputs": [],
   "source": [
    "sum_x1=0\n",
    "sum_x2=0\n",
    "sum_x3=0\n",
    "sum_x4=0\n",
    "sum_x5=0\n",
    "sum_x6=0\n",
    "sum_x7=0\n",
    "sum_y1=0\n",
    "sum_x1x1=0\n",
    "sum_x1x2=0\n",
    "sum_x1x3=0\n",
    "sum_x1x4=0\n",
    "sum_x1x5=0\n",
    "sum_x1x6=0\n",
    "sum_x1x7=0\n",
    "sum_x2x2=0\n",
    "sum_x2x3=0\n",
    "sum_x2x4=0\n",
    "sum_x2x5=0\n",
    "sum_x2x6=0\n",
    "sum_x2x7=0\n",
    "sum_x3x3=0\n",
    "sum_x3x4=0\n",
    "sum_x3x5=0\n",
    "sum_x3x6=0\n",
    "sum_x3x7=0\n",
    "sum_x4x4=0\n",
    "sum_x4x5=0\n",
    "sum_x4x6=0\n",
    "sum_x4x7=0\n",
    "sum_x5x5=0\n",
    "sum_x5x6=0\n",
    "sum_x5x7=0\n",
    "sum_x6x6=0\n",
    "sum_x6x7=0\n",
    "sum_x7x7=0\n",
    "sum_x1y1=0\n",
    "sum_x2y1=0\n",
    "sum_x3y1=0\n",
    "sum_x4y1=0\n",
    "sum_x5y1=0\n",
    "sum_x6y1=0\n",
    "sum_x7y1=0\n",
    "\n",
    "for i in range(0,n):\n",
    "    sum_x1=sum_x1+x_train[0][i]\n",
    "    sum_x2=sum_x2+x_train[1][i]\n",
    "    sum_x3=sum_x3+x_train[2][i]\n",
    "    sum_x4=sum_x4+x_train[3][i]\n",
    "    sum_x5=sum_x5+x_train[4][i]\n",
    "    sum_x6=sum_x6+x_train[5][i]\n",
    "    sum_x7=sum_x7+x_train[6][i]\n",
    "    sum_y1=sum_y1+y_train[i]\n",
    "    sum_x1x1=sum_x1x1+x_train[0][i]*x_train[0][i]\n",
    "    sum_x1x2=sum_x1x2+x_train[0][i]*x_train[1][i]\n",
    "    sum_x1x3=sum_x1x3+x_train[0][i]*x_train[2][i]\n",
    "    sum_x1x4=sum_x1x4+x_train[0][i]*x_train[3][i]\n",
    "    sum_x1x5=sum_x1x5+x_train[0][i]*x_train[4][i]\n",
    "    sum_x1x6=sum_x1x6+x_train[0][i]*x_train[5][i]\n",
    "    sum_x1x7=sum_x1x7+x_train[0][i]*x_train[6][i]\n",
    "    sum_x2x2=sum_x2x2+x_train[1][i]*x_train[1][i]\n",
    "    sum_x2x3=sum_x2x3+x_train[1][i]*x_train[2][i]\n",
    "    sum_x2x4=sum_x2x4+x_train[1][i]*x_train[3][i]\n",
    "    sum_x2x5=sum_x2x5+x_train[1][i]*x_train[4][i]\n",
    "    sum_x2x6=sum_x2x6+x_train[1][i]*x_train[5][i]\n",
    "    sum_x2x7=sum_x2x7+x_train[1][i]*x_train[6][i]\n",
    "    sum_x3x3=sum_x3x3+x_train[2][i]*x_train[2][i]\n",
    "    sum_x3x4=sum_x3x4+x_train[2][i]*x_train[3][i]\n",
    "    sum_x3x5=sum_x3x5+x_train[2][i]*x_train[4][i]\n",
    "    sum_x3x6=sum_x3x6+x_train[2][i]*x_train[5][i]\n",
    "    sum_x3x7=sum_x3x7+x_train[2][i]*x_train[6][i]\n",
    "    sum_x4x4=sum_x4x4+x_train[3][i]*x_train[3][i]\n",
    "    sum_x4x5=sum_x4x5+x_train[3][i]*x_train[4][i]\n",
    "    sum_x4x6=sum_x4x6+x_train[3][i]*x_train[5][i]\n",
    "    sum_x4x7=sum_x4x7+x_train[3][i]*x_train[6][i]\n",
    "    sum_x5x5=sum_x5x5+x_train[4][i]*x_train[4][i]\n",
    "    sum_x5x6=sum_x5x6+x_train[4][i]*x_train[5][i]\n",
    "    sum_x5x7=sum_x5x7+x_train[4][i]*x_train[6][i]\n",
    "    sum_x6x6=sum_x6x6+x_train[5][i]*x_train[5][i]\n",
    "    sum_x6x7=sum_x6x7+x_train[5][i]*x_train[6][i]\n",
    "    sum_x7x7=sum_x7x7+x_train[6][i]*x_train[6][i]\n",
    "    sum_x1y1=sum_x1y1+x_train[0][i]*y_train[i]\n",
    "    sum_x2y1=sum_x2y1+x_train[1][i]*y_train[i]\n",
    "    sum_x3y1=sum_x3y1+x_train[2][i]*y_train[i]\n",
    "    sum_x4y1=sum_x4y1+x_train[3][i]*y_train[i]\n",
    "    sum_x5y1=sum_x5y1+x_train[4][i]*y_train[i]\n",
    "    sum_x6y1=sum_x6y1+x_train[5][i]*y_train[i]\n",
    "    sum_x7y1=sum_x7y1+x_train[6][i]*y_train[i]"
   ]
  },
  {
   "cell_type": "code",
   "execution_count": 65,
   "metadata": {},
   "outputs": [],
   "source": [
    "from sklearn.linear_model import LinearRegression\n",
    "reg = LinearRegression().fit(x_train, y_train)"
   ]
  },
  {
   "cell_type": "code",
   "execution_count": 66,
   "metadata": {},
   "outputs": [
    {
     "data": {
      "text/plain": [
       "array([ 0.02731745, -0.00197948, -0.02009149,  0.00020507,  0.00544072,\n",
       "        0.00462017, -0.00441387])"
      ]
     },
     "execution_count": 66,
     "metadata": {},
     "output_type": "execute_result"
    }
   ],
   "source": [
    "reg.coef_"
   ]
  },
  {
   "cell_type": "code",
   "execution_count": 67,
   "metadata": {},
   "outputs": [
    {
     "data": {
      "text/plain": [
       "-0.047476623876914564"
      ]
     },
     "execution_count": 67,
     "metadata": {},
     "output_type": "execute_result"
    }
   ],
   "source": [
    "reg.intercept_"
   ]
  },
  {
   "cell_type": "code",
   "execution_count": 68,
   "metadata": {},
   "outputs": [],
   "source": [
    "A = np.array([[n, sum_x1, sum_x2,sum_x3,sum_x4,sum_x5,sum_x6,sum_x7], \n",
    "              [sum_x1,sum_x1x1,sum_x1x2,sum_x1x3,sum_x1x4,sum_x1x5,sum_x1x6,sum_x1x7],\n",
    "              [sum_x2,sum_x1x2,sum_x2x2,sum_x2x3,sum_x2x4,sum_x2x5,sum_x2x6,sum_x2x7],\n",
    "              [sum_x3,sum_x1x3,sum_x2x3,sum_x3x3,sum_x3x4,sum_x3x5,sum_x3x6,sum_x3x7],\n",
    "              [sum_x4,sum_x1x4,sum_x2x4,sum_x3x4,sum_x4x4,sum_x4x5,sum_x4x6,sum_x4x7],\n",
    "              [sum_x5,sum_x1x5,sum_x2x5,sum_x3x5,sum_x4x5,sum_x5x5,sum_x5x6,sum_x5x7],\n",
    "              [sum_x6,sum_x1x6,sum_x2x6,sum_x3x6,sum_x4x6,sum_x5x6,sum_x6x6,sum_x6x7],\n",
    "              [sum_x7,sum_x1x7,sum_x2x7,sum_x3x7,sum_x4x7,sum_x5x7,sum_x6x7,sum_x7x7]])"
   ]
  },
  {
   "cell_type": "code",
   "execution_count": 69,
   "metadata": {},
   "outputs": [],
   "source": [
    "B=np.array([sum_y1, sum_x1y1, sum_x2y1,sum_x3y1,sum_x4y1,sum_x5y1,sum_x6y1,sum_x7y1])"
   ]
  },
  {
   "cell_type": "code",
   "execution_count": 70,
   "metadata": {},
   "outputs": [
    {
     "data": {
      "text/plain": [
       "array([[ 1.03040751e-01,  1.00428082e-03,  5.37614815e-04,\n",
       "        -1.28490485e-03, -1.43009924e-05,  1.57566959e-03,\n",
       "        -1.10214419e-04, -6.08996034e-04],\n",
       "       [ 1.00428082e-03,  1.64354291e-03, -1.09674829e-03,\n",
       "        -4.18769855e-04,  2.21993692e-06,  6.67585251e-05,\n",
       "         1.58840473e-05, -5.79566503e-05],\n",
       "       [ 5.37614815e-04, -1.09674829e-03,  1.78767029e-03,\n",
       "        -9.27372501e-04, -4.14649169e-07,  1.39221344e-04,\n",
       "         9.75411340e-05, -5.66691854e-05],\n",
       "       [-1.28490485e-03, -4.18769855e-04, -9.27372501e-04,\n",
       "         2.31516218e-03, -2.89672953e-06, -1.56296875e-04,\n",
       "        -2.31527023e-04,  8.58427887e-05],\n",
       "       [-1.43009924e-05,  2.21993692e-06, -4.14649169e-07,\n",
       "        -2.89672953e-06,  1.17066038e-07,  1.47051167e-08,\n",
       "         1.98956542e-06, -9.39314588e-07],\n",
       "       [ 1.57566959e-03,  6.67585251e-05,  1.39221344e-04,\n",
       "        -1.56296875e-04,  1.47051167e-08,  1.72768287e-04,\n",
       "         1.89085722e-05, -7.91071578e-05],\n",
       "       [-1.10214419e-04,  1.58840473e-05,  9.75411340e-05,\n",
       "        -2.31527023e-04,  1.98956542e-06,  1.89085722e-05,\n",
       "         5.95181620e-05, -2.38479255e-05],\n",
       "       [-6.08996034e-04, -5.79566503e-05, -5.66691854e-05,\n",
       "         8.58427887e-05, -9.39314588e-07, -7.91071578e-05,\n",
       "        -2.38479255e-05,  4.41087272e-05]])"
      ]
     },
     "execution_count": 70,
     "metadata": {},
     "output_type": "execute_result"
    }
   ],
   "source": [
    "from numpy.linalg import inv\n",
    "Inverse=inv(A)\n",
    "Inverse"
   ]
  },
  {
   "cell_type": "code",
   "execution_count": 71,
   "metadata": {},
   "outputs": [
    {
     "data": {
      "text/plain": [
       "array([[1, 0, 0, 0, 0, 0, 0, 0],\n",
       "       [0, 1, 0, 0, 0, 0, 0, 0],\n",
       "       [0, 0, 1, 0, 0, 0, 0, 0],\n",
       "       [0, 0, 0, 1, 0, 0, 0, 0],\n",
       "       [0, 0, 0, 0, 1, 0, 0, 0],\n",
       "       [0, 0, 0, 0, 0, 1, 0, 0],\n",
       "       [0, 0, 0, 0, 0, 0, 1, 0],\n",
       "       [0, 0, 0, 0, 0, 0, 0, 1]])"
      ]
     },
     "execution_count": 71,
     "metadata": {},
     "output_type": "execute_result"
    }
   ],
   "source": [
    "np.around(Inverse @ A).astype(int)"
   ]
  },
  {
   "cell_type": "code",
   "execution_count": 72,
   "metadata": {},
   "outputs": [],
   "source": [
    "w0=Inverse[0][0]*B[0]+Inverse[0][1]*B[1]+Inverse[0][2]*B[2]+Inverse[0][3]*B[3]+Inverse[0][4]*B[4]+Inverse[0][5]*B[5]+Inverse[0][6]*B[6]+Inverse[0][7]*B[7]"
   ]
  },
  {
   "cell_type": "code",
   "execution_count": 73,
   "metadata": {},
   "outputs": [],
   "source": [
    "w1=Inverse[1][0]*B[0]+Inverse[1][1]*B[1]+Inverse[1][2]*B[2]+Inverse[1][3]*B[3]+Inverse[1][4]*B[4]+Inverse[1][5]*B[5]+Inverse[1][6]*B[6]+Inverse[1][7]*B[7]"
   ]
  },
  {
   "cell_type": "code",
   "execution_count": 74,
   "metadata": {},
   "outputs": [],
   "source": [
    "w2=Inverse[2][0]*B[0]+Inverse[2][1]*B[1]+Inverse[2][2]*B[2]+Inverse[2][3]*B[3]+Inverse[2][4]*B[4]+Inverse[2][5]*B[5]+Inverse[2][6]*B[6]+Inverse[2][7]*B[7]"
   ]
  },
  {
   "cell_type": "code",
   "execution_count": 75,
   "metadata": {},
   "outputs": [],
   "source": [
    "w3=Inverse[3][0]*B[0]+Inverse[3][1]*B[1]+Inverse[3][2]*B[2]+Inverse[3][3]*B[3]+Inverse[3][4]*B[4]+Inverse[3][5]*B[5]+Inverse[3][6]*B[6]+Inverse[3][7]*B[7]"
   ]
  },
  {
   "cell_type": "code",
   "execution_count": 76,
   "metadata": {},
   "outputs": [],
   "source": [
    "w4=Inverse[4][0]*B[0]+Inverse[4][1]*B[1]+Inverse[4][2]*B[2]+Inverse[4][3]*B[3]+Inverse[4][4]*B[4]+Inverse[4][5]*B[5]+Inverse[4][6]*B[6]+Inverse[4][7]*B[7]"
   ]
  },
  {
   "cell_type": "code",
   "execution_count": 77,
   "metadata": {},
   "outputs": [],
   "source": [
    "w5=Inverse[5][0]*B[0]+Inverse[5][1]*B[1]+Inverse[5][2]*B[2]+Inverse[5][3]*B[3]+Inverse[5][4]*B[4]+Inverse[5][5]*B[5]+Inverse[5][6]*B[6]+Inverse[5][7]*B[7]"
   ]
  },
  {
   "cell_type": "code",
   "execution_count": 78,
   "metadata": {},
   "outputs": [],
   "source": [
    "w6=Inverse[6][0]*B[0]+Inverse[6][1]*B[1]+Inverse[6][2]*B[2]+Inverse[6][3]*B[3]+Inverse[6][4]*B[4]+Inverse[6][5]*B[5]+Inverse[6][6]*B[6]+Inverse[6][7]*B[7]"
   ]
  },
  {
   "cell_type": "code",
   "execution_count": 79,
   "metadata": {},
   "outputs": [],
   "source": [
    "w7=Inverse[7][0]*B[0]+Inverse[7][1]*B[1]+Inverse[7][2]*B[2]+Inverse[7][3]*B[3]+Inverse[7][4]*B[4]+Inverse[7][5]*B[5]+Inverse[7][6]*B[6]+Inverse[7][7]*B[7]"
   ]
  },
  {
   "cell_type": "code",
   "execution_count": 80,
   "metadata": {},
   "outputs": [],
   "source": [
    "W=np.array([w0,w1,w2,w3,w4,w5,w6,w7])"
   ]
  },
  {
   "cell_type": "code",
   "execution_count": 81,
   "metadata": {},
   "outputs": [
    {
     "data": {
      "text/plain": [
       "array([-0.04747662,  0.02731745, -0.00197948, -0.02009149,  0.00020507,\n",
       "        0.00544072,  0.00462017, -0.00441387])"
      ]
     },
     "execution_count": 81,
     "metadata": {},
     "output_type": "execute_result"
    }
   ],
   "source": [
    "W"
   ]
  },
  {
   "cell_type": "code",
   "execution_count": 82,
   "metadata": {},
   "outputs": [
    {
     "data": {
      "text/html": [
       "<div>\n",
       "<style scoped>\n",
       "    .dataframe tbody tr th:only-of-type {\n",
       "        vertical-align: middle;\n",
       "    }\n",
       "\n",
       "    .dataframe tbody tr th {\n",
       "        vertical-align: top;\n",
       "    }\n",
       "\n",
       "    .dataframe thead th {\n",
       "        text-align: right;\n",
       "    }\n",
       "</style>\n",
       "<table border=\"1\" class=\"dataframe\">\n",
       "  <thead>\n",
       "    <tr style=\"text-align: right;\">\n",
       "      <th></th>\n",
       "      <th>0</th>\n",
       "      <th>1</th>\n",
       "      <th>2</th>\n",
       "      <th>3</th>\n",
       "      <th>4</th>\n",
       "      <th>5</th>\n",
       "      <th>6</th>\n",
       "    </tr>\n",
       "  </thead>\n",
       "  <tbody>\n",
       "    <tr>\n",
       "      <th>0</th>\n",
       "      <td>0.00</td>\n",
       "      <td>0.00</td>\n",
       "      <td>0.00</td>\n",
       "      <td>0.00</td>\n",
       "      <td>0.00</td>\n",
       "      <td>0.00</td>\n",
       "      <td>0.00</td>\n",
       "    </tr>\n",
       "    <tr>\n",
       "      <th>1</th>\n",
       "      <td>8.47</td>\n",
       "      <td>7.74</td>\n",
       "      <td>7.74</td>\n",
       "      <td>928.24</td>\n",
       "      <td>76.42</td>\n",
       "      <td>38.21</td>\n",
       "      <td>188.97</td>\n",
       "    </tr>\n",
       "    <tr>\n",
       "      <th>2</th>\n",
       "      <td>211.34</td>\n",
       "      <td>178.34</td>\n",
       "      <td>178.34</td>\n",
       "      <td>31647.24</td>\n",
       "      <td>2249.92</td>\n",
       "      <td>617.66</td>\n",
       "      <td>5249.71</td>\n",
       "    </tr>\n",
       "    <tr>\n",
       "      <th>3</th>\n",
       "      <td>8.79</td>\n",
       "      <td>8.05</td>\n",
       "      <td>8.05</td>\n",
       "      <td>1137.68</td>\n",
       "      <td>97.29</td>\n",
       "      <td>51.16</td>\n",
       "      <td>235.76</td>\n",
       "    </tr>\n",
       "    <tr>\n",
       "      <th>4</th>\n",
       "      <td>191.58</td>\n",
       "      <td>169.11</td>\n",
       "      <td>167.11</td>\n",
       "      <td>28986.11</td>\n",
       "      <td>2297.84</td>\n",
       "      <td>735.39</td>\n",
       "      <td>5325.13</td>\n",
       "    </tr>\n",
       "  </tbody>\n",
       "</table>\n",
       "</div>"
      ],
      "text/plain": [
       "        0       1       2         3        4       5        6\n",
       "0    0.00    0.00    0.00      0.00     0.00    0.00     0.00\n",
       "1    8.47    7.74    7.74    928.24    76.42   38.21   188.97\n",
       "2  211.34  178.34  178.34  31647.24  2249.92  617.66  5249.71\n",
       "3    8.79    8.05    8.05   1137.68    97.29   51.16   235.76\n",
       "4  191.58  169.11  167.11  28986.11  2297.84  735.39  5325.13"
      ]
     },
     "execution_count": 82,
     "metadata": {},
     "output_type": "execute_result"
    }
   ],
   "source": [
    "x_test.columns=[0,1,2,3,4,5,6]\n",
    "x_test.head()"
   ]
  },
  {
   "cell_type": "code",
   "execution_count": 83,
   "metadata": {},
   "outputs": [],
   "source": [
    "y_pred=w0+x_test[0]*w1+x_test[1]*w2+x_test[2]*w3+x_test[3]*w4+x_test[4]*w5+x_test[5]*w6+x_test[6]*w7"
   ]
  },
  {
   "cell_type": "code",
   "execution_count": 84,
   "metadata": {},
   "outputs": [
    {
     "data": {
      "text/plain": [
       "0.20402992990545069"
      ]
     },
     "execution_count": 84,
     "metadata": {},
     "output_type": "execute_result"
    }
   ],
   "source": [
    "from sklearn.metrics import mean_squared_error\n",
    "mean_squared_error(y_test, y_pred)"
   ]
  },
  {
   "cell_type": "code",
   "execution_count": 85,
   "metadata": {},
   "outputs": [],
   "source": [
    "results=pd.DataFrame(W)"
   ]
  },
  {
   "cell_type": "code",
   "execution_count": 86,
   "metadata": {},
   "outputs": [],
   "source": [
    "results.to_csv('LR_results', mode='a', index = False, header=None)"
   ]
  },
  {
   "cell_type": "code",
   "execution_count": null,
   "metadata": {},
   "outputs": [],
   "source": []
  },
  {
   "cell_type": "code",
   "execution_count": null,
   "metadata": {},
   "outputs": [],
   "source": []
  },
  {
   "cell_type": "code",
   "execution_count": null,
   "metadata": {},
   "outputs": [],
   "source": []
  },
  {
   "cell_type": "code",
   "execution_count": null,
   "metadata": {},
   "outputs": [],
   "source": []
  },
  {
   "cell_type": "code",
   "execution_count": null,
   "metadata": {},
   "outputs": [],
   "source": []
  },
  {
   "cell_type": "code",
   "execution_count": null,
   "metadata": {},
   "outputs": [],
   "source": []
  },
  {
   "cell_type": "code",
   "execution_count": null,
   "metadata": {},
   "outputs": [],
   "source": []
  },
  {
   "cell_type": "code",
   "execution_count": null,
   "metadata": {},
   "outputs": [],
   "source": []
  },
  {
   "cell_type": "code",
   "execution_count": null,
   "metadata": {},
   "outputs": [],
   "source": []
  },
  {
   "cell_type": "code",
   "execution_count": null,
   "metadata": {},
   "outputs": [],
   "source": []
  },
  {
   "cell_type": "code",
   "execution_count": null,
   "metadata": {},
   "outputs": [],
   "source": []
  },
  {
   "cell_type": "code",
   "execution_count": null,
   "metadata": {},
   "outputs": [],
   "source": []
  },
  {
   "cell_type": "code",
   "execution_count": null,
   "metadata": {},
   "outputs": [],
   "source": []
  }
 ],
 "metadata": {
  "kernelspec": {
   "display_name": "Python 3",
   "language": "python",
   "name": "python3"
  },
  "language_info": {
   "codemirror_mode": {
    "name": "ipython",
    "version": 3
   },
   "file_extension": ".py",
   "mimetype": "text/x-python",
   "name": "python",
   "nbconvert_exporter": "python",
   "pygments_lexer": "ipython3",
   "version": "3.7.3"
  }
 },
 "nbformat": 4,
 "nbformat_minor": 2
}
