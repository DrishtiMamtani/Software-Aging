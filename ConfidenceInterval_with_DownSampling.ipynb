{
 "cells": [
  {
   "cell_type": "code",
   "execution_count": 138,
   "metadata": {},
   "outputs": [],
   "source": [
    "import pandas as pd \n",
    "import numpy as np\n",
    "from sklearn import preprocessing\n",
    "df=pd.read_excel(\"7.xlsx\",header=None)\n",
    "rows=len(df.index)\n",
    "df1 = pd.DataFrame(preprocessing.normalize(df), columns = df.columns)\n",
    "num=df1[df1[82]!=0][0].count()\n",
    "df2=df1[df1[82]!=0]\n",
    "final_data = pd.DataFrame(index=np.arange(0,num), columns=[np.arange(0,82)])\n",
    "df3=df[df1[82]==0]\n",
    "import random\n",
    "for i in range(0,num):\n",
    "    x=random.randint(1,rows-num-1)\n",
    "    print(x)\n",
    "    for j in range(0,82):\n",
    "        final_data.iloc[i,j]=df3.iloc[x,j]\n",
    "data= pd.DataFrame(index=np.arange(0,4), columns=[np.arange(0,82)])\n",
    "for i in range (0,82):\n",
    "    a1=final_data.iloc[:,i]\n",
    "    xbar1=a1.mean()\n",
    "    std1=a1.std()\n",
    "    rootn1=np.sqrt(a1.count())\n",
    "    ci1upper=(xbar1+(std1*1.96))/rootn1\n",
    "    ci1lower=(xbar1-(std1*1.96))/rootn1\n",
    "    a2=df2.iloc[:,i]\n",
    "    xbar2=a2.mean()\n",
    "    std2=a2.std()\n",
    "    rootn2=np.sqrt(a2.count())\n",
    "    ci2upper=(xbar2+(std2*1.96))/rootn2\n",
    "    ci2lower=(xbar2-(std2*1.96))/rootn2\n",
    "    data.iloc[0,i]=ci1upper\n",
    "    data.iloc[1,i]=ci1lower\n",
    "    data.iloc[2,i]=ci2upper\n",
    "    data.iloc[3,i]=ci2lower\n",
    "data.to_excel(\"resultnew7.xlsx\")"
   ]
  },
  {
   "cell_type": "code",
   "execution_count": null,
   "metadata": {},
   "outputs": [],
   "source": []
  },
  {
   "cell_type": "code",
   "execution_count": null,
   "metadata": {},
   "outputs": [],
   "source": []
  },
  {
   "cell_type": "code",
   "execution_count": null,
   "metadata": {},
   "outputs": [],
   "source": []
  },
  {
   "cell_type": "code",
   "execution_count": null,
   "metadata": {},
   "outputs": [],
   "source": []
  },
  {
   "cell_type": "code",
   "execution_count": null,
   "metadata": {},
   "outputs": [],
   "source": []
  },
  {
   "cell_type": "code",
   "execution_count": 144,
   "metadata": {},
   "outputs": [],
   "source": []
  },
  {
   "cell_type": "code",
   "execution_count": null,
   "metadata": {},
   "outputs": [],
   "source": []
  },
  {
   "cell_type": "code",
   "execution_count": null,
   "metadata": {},
   "outputs": [],
   "source": []
  },
  {
   "cell_type": "code",
   "execution_count": 147,
   "metadata": {},
   "outputs": [],
   "source": []
  },
  {
   "cell_type": "code",
   "execution_count": 148,
   "metadata": {},
   "outputs": [],
   "source": []
  },
  {
   "cell_type": "code",
   "execution_count": null,
   "metadata": {},
   "outputs": [],
   "source": []
  },
  {
   "cell_type": "code",
   "execution_count": null,
   "metadata": {},
   "outputs": [],
   "source": []
  },
  {
   "cell_type": "code",
   "execution_count": null,
   "metadata": {},
   "outputs": [],
   "source": []
  },
  {
   "cell_type": "code",
   "execution_count": null,
   "metadata": {},
   "outputs": [],
   "source": []
  },
  {
   "cell_type": "code",
   "execution_count": null,
   "metadata": {},
   "outputs": [],
   "source": []
  },
  {
   "cell_type": "code",
   "execution_count": null,
   "metadata": {},
   "outputs": [],
   "source": []
  },
  {
   "cell_type": "code",
   "execution_count": null,
   "metadata": {},
   "outputs": [],
   "source": []
  },
  {
   "cell_type": "code",
   "execution_count": null,
   "metadata": {},
   "outputs": [],
   "source": []
  }
 ],
 "metadata": {
  "kernelspec": {
   "display_name": "Python 3",
   "language": "python",
   "name": "python3"
  },
  "language_info": {
   "codemirror_mode": {
    "name": "ipython",
    "version": 3
   },
   "file_extension": ".py",
   "mimetype": "text/x-python",
   "name": "python",
   "nbconvert_exporter": "python",
   "pygments_lexer": "ipython3",
   "version": "3.7.3"
  }
 },
 "nbformat": 4,
 "nbformat_minor": 2
}
