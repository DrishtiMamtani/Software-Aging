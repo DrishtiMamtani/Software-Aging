{
 "cells": [
  {
   "cell_type": "code",
   "execution_count": 29,
   "metadata": {},
   "outputs": [],
   "source": [
    "import pandas as pd \n",
    "import numpy as np\n",
    "from sklearn import preprocessing\n",
    "df=pd.read_excel(\"7.xlsx\",header=None)"
   ]
  },
  {
   "cell_type": "code",
   "execution_count": 30,
   "metadata": {},
   "outputs": [],
   "source": [
    "X=df[[67,72,68,74,35,3,4]].iloc[:][1:]"
   ]
  },
  {
   "cell_type": "code",
   "execution_count": 31,
   "metadata": {},
   "outputs": [],
   "source": [
    "y=df[82].iloc[:][1:]"
   ]
  },
  {
   "cell_type": "code",
   "execution_count": 32,
   "metadata": {},
   "outputs": [],
   "source": [
    "from sklearn.model_selection import train_test_split \n",
    "x_train, x_test, y_train, y_test = train_test_split(X, y, test_size=0.3, random_state=1) "
   ]
  },
  {
   "cell_type": "code",
   "execution_count": 33,
   "metadata": {},
   "outputs": [
    {
     "data": {
      "text/html": [
       "<div>\n",
       "<style scoped>\n",
       "    .dataframe tbody tr th:only-of-type {\n",
       "        vertical-align: middle;\n",
       "    }\n",
       "\n",
       "    .dataframe tbody tr th {\n",
       "        vertical-align: top;\n",
       "    }\n",
       "\n",
       "    .dataframe thead th {\n",
       "        text-align: right;\n",
       "    }\n",
       "</style>\n",
       "<table border=\"1\" class=\"dataframe\">\n",
       "  <thead>\n",
       "    <tr style=\"text-align: right;\">\n",
       "      <th></th>\n",
       "      <th>0</th>\n",
       "      <th>1</th>\n",
       "      <th>2</th>\n",
       "      <th>3</th>\n",
       "      <th>4</th>\n",
       "      <th>5</th>\n",
       "      <th>6</th>\n",
       "    </tr>\n",
       "  </thead>\n",
       "  <tbody>\n",
       "    <tr>\n",
       "      <th>0</th>\n",
       "      <td>53.00</td>\n",
       "      <td>156.43</td>\n",
       "      <td>103.43</td>\n",
       "      <td>70.00</td>\n",
       "      <td>8.00</td>\n",
       "      <td>9.00</td>\n",
       "      <td>156.00</td>\n",
       "    </tr>\n",
       "    <tr>\n",
       "      <th>1</th>\n",
       "      <td>155.00</td>\n",
       "      <td>365.79</td>\n",
       "      <td>210.79</td>\n",
       "      <td>114.11</td>\n",
       "      <td>40.00</td>\n",
       "      <td>40.00</td>\n",
       "      <td>136.29</td>\n",
       "    </tr>\n",
       "    <tr>\n",
       "      <th>2</th>\n",
       "      <td>267.64</td>\n",
       "      <td>876.68</td>\n",
       "      <td>609.04</td>\n",
       "      <td>279.82</td>\n",
       "      <td>104.04</td>\n",
       "      <td>107.04</td>\n",
       "      <td>720.89</td>\n",
       "    </tr>\n",
       "    <tr>\n",
       "      <th>3</th>\n",
       "      <td>1052.61</td>\n",
       "      <td>3455.86</td>\n",
       "      <td>2403.25</td>\n",
       "      <td>1145.11</td>\n",
       "      <td>391.00</td>\n",
       "      <td>392.00</td>\n",
       "      <td>2802.29</td>\n",
       "    </tr>\n",
       "    <tr>\n",
       "      <th>4</th>\n",
       "      <td>661.75</td>\n",
       "      <td>1042.18</td>\n",
       "      <td>380.43</td>\n",
       "      <td>326.18</td>\n",
       "      <td>288.18</td>\n",
       "      <td>315.75</td>\n",
       "      <td>1498.57</td>\n",
       "    </tr>\n",
       "  </tbody>\n",
       "</table>\n",
       "</div>"
      ],
      "text/plain": [
       "         0        1        2        3       4       5        6\n",
       "0    53.00   156.43   103.43    70.00    8.00    9.00   156.00\n",
       "1   155.00   365.79   210.79   114.11   40.00   40.00   136.29\n",
       "2   267.64   876.68   609.04   279.82  104.04  107.04   720.89\n",
       "3  1052.61  3455.86  2403.25  1145.11  391.00  392.00  2802.29\n",
       "4   661.75  1042.18   380.43   326.18  288.18  315.75  1498.57"
      ]
     },
     "execution_count": 33,
     "metadata": {},
     "output_type": "execute_result"
    }
   ],
   "source": [
    "x_train.reset_index(inplace = True, drop = True) \n",
    "x_test.reset_index(inplace = True, drop = True) \n",
    "y_train.reset_index(inplace = True, drop = True) \n",
    "y_test.reset_index(inplace = True, drop = True) \n",
    "x_train.columns=[0,1,2,3,4,5,6]\n",
    "n=x_train.count()[0]\n",
    "x_train.head()"
   ]
  },
  {
   "cell_type": "code",
   "execution_count": 34,
   "metadata": {},
   "outputs": [],
   "source": [
    "sum_x1=0\n",
    "sum_x2=0\n",
    "sum_x3=0\n",
    "sum_x4=0\n",
    "sum_x5=0\n",
    "sum_x6=0\n",
    "sum_x7=0\n",
    "sum_y1=0\n",
    "sum_x1x1=0\n",
    "sum_x1x2=0\n",
    "sum_x1x3=0\n",
    "sum_x1x4=0\n",
    "sum_x1x5=0\n",
    "sum_x1x6=0\n",
    "sum_x1x7=0\n",
    "sum_x2x2=0\n",
    "sum_x2x3=0\n",
    "sum_x2x4=0\n",
    "sum_x2x5=0\n",
    "sum_x2x6=0\n",
    "sum_x2x7=0\n",
    "sum_x3x3=0\n",
    "sum_x3x4=0\n",
    "sum_x3x5=0\n",
    "sum_x3x6=0\n",
    "sum_x3x7=0\n",
    "sum_x4x4=0\n",
    "sum_x4x5=0\n",
    "sum_x4x6=0\n",
    "sum_x4x7=0\n",
    "sum_x5x5=0\n",
    "sum_x5x6=0\n",
    "sum_x5x7=0\n",
    "sum_x6x6=0\n",
    "sum_x6x7=0\n",
    "sum_x7x7=0\n",
    "sum_x1y1=0\n",
    "sum_x2y1=0\n",
    "sum_x3y1=0\n",
    "sum_x4y1=0\n",
    "sum_x5y1=0\n",
    "sum_x6y1=0\n",
    "sum_x7y1=0\n",
    "\n",
    "for i in range(0,n):\n",
    "    sum_x1=sum_x1+x_train[0][i]\n",
    "    sum_x2=sum_x2+x_train[1][i]\n",
    "    sum_x3=sum_x3+x_train[2][i]\n",
    "    sum_x4=sum_x4+x_train[3][i]\n",
    "    sum_x5=sum_x5+x_train[4][i]\n",
    "    sum_x6=sum_x6+x_train[5][i]\n",
    "    sum_x7=sum_x7+x_train[6][i]\n",
    "    sum_y1=sum_y1+y_train[i]\n",
    "    sum_x1x1=sum_x1x1+x_train[0][i]*x_train[0][i]\n",
    "    sum_x1x2=sum_x1x2+x_train[0][i]*x_train[1][i]\n",
    "    sum_x1x3=sum_x1x3+x_train[0][i]*x_train[2][i]\n",
    "    sum_x1x4=sum_x1x4+x_train[0][i]*x_train[3][i]\n",
    "    sum_x1x5=sum_x1x5+x_train[0][i]*x_train[4][i]\n",
    "    sum_x1x6=sum_x1x6+x_train[0][i]*x_train[5][i]\n",
    "    sum_x1x7=sum_x1x7+x_train[0][i]*x_train[6][i]\n",
    "    sum_x2x2=sum_x2x2+x_train[1][i]*x_train[1][i]\n",
    "    sum_x2x3=sum_x2x3+x_train[1][i]*x_train[2][i]\n",
    "    sum_x2x4=sum_x2x4+x_train[1][i]*x_train[3][i]\n",
    "    sum_x2x5=sum_x2x5+x_train[1][i]*x_train[4][i]\n",
    "    sum_x2x6=sum_x2x6+x_train[1][i]*x_train[5][i]\n",
    "    sum_x2x7=sum_x2x7+x_train[1][i]*x_train[6][i]\n",
    "    sum_x3x3=sum_x3x3+x_train[2][i]*x_train[2][i]\n",
    "    sum_x3x4=sum_x3x4+x_train[2][i]*x_train[3][i]\n",
    "    sum_x3x5=sum_x3x5+x_train[2][i]*x_train[4][i]\n",
    "    sum_x3x6=sum_x3x6+x_train[2][i]*x_train[5][i]\n",
    "    sum_x3x7=sum_x3x7+x_train[2][i]*x_train[6][i]\n",
    "    sum_x4x4=sum_x4x4+x_train[3][i]*x_train[3][i]\n",
    "    sum_x4x5=sum_x4x5+x_train[3][i]*x_train[4][i]\n",
    "    sum_x4x6=sum_x4x6+x_train[3][i]*x_train[5][i]\n",
    "    sum_x4x7=sum_x4x7+x_train[3][i]*x_train[6][i]\n",
    "    sum_x5x5=sum_x5x5+x_train[4][i]*x_train[4][i]\n",
    "    sum_x5x6=sum_x5x6+x_train[4][i]*x_train[5][i]\n",
    "    sum_x5x7=sum_x5x7+x_train[4][i]*x_train[6][i]\n",
    "    sum_x6x6=sum_x6x6+x_train[5][i]*x_train[5][i]\n",
    "    sum_x6x7=sum_x6x7+x_train[5][i]*x_train[6][i]\n",
    "    sum_x7x7=sum_x7x7+x_train[6][i]*x_train[6][i]\n",
    "    sum_x1y1=sum_x1y1+x_train[0][i]*y_train[i]\n",
    "    sum_x2y1=sum_x2y1+x_train[1][i]*y_train[i]\n",
    "    sum_x3y1=sum_x3y1+x_train[2][i]*y_train[i]\n",
    "    sum_x4y1=sum_x4y1+x_train[3][i]*y_train[i]\n",
    "    sum_x5y1=sum_x5y1+x_train[4][i]*y_train[i]\n",
    "    sum_x6y1=sum_x6y1+x_train[5][i]*y_train[i]\n",
    "    sum_x7y1=sum_x7y1+x_train[6][i]*y_train[i]"
   ]
  },
  {
   "cell_type": "code",
   "execution_count": 35,
   "metadata": {},
   "outputs": [],
   "source": [
    "from sklearn.linear_model import LinearRegression\n",
    "reg = LinearRegression().fit(x_train, y_train)"
   ]
  },
  {
   "cell_type": "code",
   "execution_count": 36,
   "metadata": {},
   "outputs": [
    {
     "data": {
      "text/plain": [
       "array([-8.84446855e+00,  8.84851727e+00, -8.84737401e+00, -3.98317732e-03,\n",
       "       -6.17170760e-03, -8.05008106e-04,  2.04383772e-04])"
      ]
     },
     "execution_count": 36,
     "metadata": {},
     "output_type": "execute_result"
    }
   ],
   "source": [
    "reg.coef_"
   ]
  },
  {
   "cell_type": "code",
   "execution_count": 37,
   "metadata": {},
   "outputs": [
    {
     "data": {
      "text/plain": [
       "0.010368116742111771"
      ]
     },
     "execution_count": 37,
     "metadata": {},
     "output_type": "execute_result"
    }
   ],
   "source": [
    "reg.intercept_"
   ]
  },
  {
   "cell_type": "code",
   "execution_count": 38,
   "metadata": {},
   "outputs": [],
   "source": [
    "A = np.array([[n, sum_x1, sum_x2,sum_x3,sum_x4,sum_x5,sum_x6,sum_x7], \n",
    "              [sum_x1,sum_x1x1,sum_x1x2,sum_x1x3,sum_x1x4,sum_x1x5,sum_x1x6,sum_x1x7],\n",
    "              [sum_x2,sum_x1x2,sum_x2x2,sum_x2x3,sum_x2x4,sum_x2x5,sum_x2x6,sum_x2x7],\n",
    "              [sum_x3,sum_x1x3,sum_x2x3,sum_x3x3,sum_x3x4,sum_x3x5,sum_x3x6,sum_x3x7],\n",
    "              [sum_x4,sum_x1x4,sum_x2x4,sum_x3x4,sum_x4x4,sum_x4x5,sum_x4x6,sum_x4x7],\n",
    "              [sum_x5,sum_x1x5,sum_x2x5,sum_x3x5,sum_x4x5,sum_x5x5,sum_x5x6,sum_x5x7],\n",
    "              [sum_x6,sum_x1x6,sum_x2x6,sum_x3x6,sum_x4x6,sum_x5x6,sum_x6x6,sum_x6x7],\n",
    "              [sum_x7,sum_x1x7,sum_x2x7,sum_x3x7,sum_x4x7,sum_x5x7,sum_x6x7,sum_x7x7]])"
   ]
  },
  {
   "cell_type": "code",
   "execution_count": 39,
   "metadata": {},
   "outputs": [],
   "source": [
    "B=np.array([sum_y1, sum_x1y1, sum_x2y1,sum_x3y1,sum_x4y1,sum_x5y1,sum_x6y1,sum_x7y1])"
   ]
  },
  {
   "cell_type": "code",
   "execution_count": 40,
   "metadata": {},
   "outputs": [
    {
     "data": {
      "text/plain": [
       "array([[ 9.17492929e-02, -7.70009187e+00,  7.70017322e+00,\n",
       "        -7.70005543e+00, -1.96663861e-04, -9.25468816e-05,\n",
       "         3.62993012e-05, -7.97571148e-05],\n",
       "       [-7.70009187e+00,  5.88060087e+03, -5.88064910e+03,\n",
       "         5.88063312e+03,  7.70890034e-02, -1.55256678e-02,\n",
       "         7.18617542e-02, -5.74344596e-03],\n",
       "       [ 7.70017322e+00, -5.88064910e+03,  5.88069739e+03,\n",
       "        -5.88068139e+03, -7.71363479e-02,  1.54304236e-02,\n",
       "        -7.18957117e-02,  5.75049536e-03],\n",
       "       [-7.70005543e+00,  5.88063312e+03, -5.88068139e+03,\n",
       "         5.88066540e+03,  7.71252344e-02, -1.54452116e-02,\n",
       "         7.18924574e-02, -5.74988501e-03],\n",
       "       [-1.96663861e-04,  7.70890035e-02, -7.71363480e-02,\n",
       "         7.71252345e-02,  4.96536480e-05,  6.40816300e-05,\n",
       "         3.19284076e-05, -6.24101447e-06],\n",
       "       [-9.25468818e-05, -1.55256677e-02,  1.54304235e-02,\n",
       "        -1.54452115e-02,  6.40816300e-05,  2.02530214e-04,\n",
       "         2.70884542e-05, -8.51256882e-06],\n",
       "       [ 3.62993011e-05,  7.18617544e-02, -7.18957118e-02,\n",
       "         7.18924576e-02,  3.19284076e-05,  2.70884542e-05,\n",
       "         6.07249846e-05, -1.05592820e-05],\n",
       "       [-7.97571147e-05, -5.74344598e-03,  5.75049538e-03,\n",
       "        -5.74988503e-03, -6.24101447e-06, -8.51256882e-06,\n",
       "        -1.05592820e-05,  2.20631140e-06]])"
      ]
     },
     "execution_count": 40,
     "metadata": {},
     "output_type": "execute_result"
    }
   ],
   "source": [
    "from numpy.linalg import inv\n",
    "Inverse=inv(A)\n",
    "Inverse"
   ]
  },
  {
   "cell_type": "code",
   "execution_count": 41,
   "metadata": {},
   "outputs": [
    {
     "data": {
      "text/plain": [
       "array([[1, 0, 0, 0, 0, 0, 0, 0],\n",
       "       [0, 1, 0, 0, 0, 0, 0, 0],\n",
       "       [0, 0, 1, 0, 0, 0, 0, 0],\n",
       "       [0, 0, 0, 1, 0, 0, 0, 0],\n",
       "       [0, 0, 0, 0, 1, 0, 0, 0],\n",
       "       [0, 0, 0, 0, 0, 1, 0, 0],\n",
       "       [0, 0, 0, 0, 0, 0, 1, 0],\n",
       "       [0, 0, 0, 0, 0, 0, 0, 1]])"
      ]
     },
     "execution_count": 41,
     "metadata": {},
     "output_type": "execute_result"
    }
   ],
   "source": [
    "np.around(Inverse @ A).astype(int)"
   ]
  },
  {
   "cell_type": "code",
   "execution_count": 42,
   "metadata": {},
   "outputs": [],
   "source": [
    "w0=Inverse[0][0]*B[0]+Inverse[0][1]*B[1]+Inverse[0][2]*B[2]+Inverse[0][3]*B[3]+Inverse[0][4]*B[4]+Inverse[0][5]*B[5]+Inverse[0][6]*B[6]+Inverse[0][7]*B[7]"
   ]
  },
  {
   "cell_type": "code",
   "execution_count": 43,
   "metadata": {},
   "outputs": [],
   "source": [
    "w1=Inverse[1][0]*B[0]+Inverse[1][1]*B[1]+Inverse[1][2]*B[2]+Inverse[1][3]*B[3]+Inverse[1][4]*B[4]+Inverse[1][5]*B[5]+Inverse[1][6]*B[6]+Inverse[1][7]*B[7]"
   ]
  },
  {
   "cell_type": "code",
   "execution_count": 44,
   "metadata": {},
   "outputs": [],
   "source": [
    "w2=Inverse[2][0]*B[0]+Inverse[2][1]*B[1]+Inverse[2][2]*B[2]+Inverse[2][3]*B[3]+Inverse[2][4]*B[4]+Inverse[2][5]*B[5]+Inverse[2][6]*B[6]+Inverse[2][7]*B[7]"
   ]
  },
  {
   "cell_type": "code",
   "execution_count": 45,
   "metadata": {},
   "outputs": [],
   "source": [
    "w3=Inverse[3][0]*B[0]+Inverse[3][1]*B[1]+Inverse[3][2]*B[2]+Inverse[3][3]*B[3]+Inverse[3][4]*B[4]+Inverse[3][5]*B[5]+Inverse[3][6]*B[6]+Inverse[3][7]*B[7]"
   ]
  },
  {
   "cell_type": "code",
   "execution_count": 46,
   "metadata": {},
   "outputs": [],
   "source": [
    "w4=Inverse[4][0]*B[0]+Inverse[4][1]*B[1]+Inverse[4][2]*B[2]+Inverse[4][3]*B[3]+Inverse[4][4]*B[4]+Inverse[4][5]*B[5]+Inverse[4][6]*B[6]+Inverse[4][7]*B[7]"
   ]
  },
  {
   "cell_type": "code",
   "execution_count": 47,
   "metadata": {},
   "outputs": [],
   "source": [
    "w5=Inverse[5][0]*B[0]+Inverse[5][1]*B[1]+Inverse[5][2]*B[2]+Inverse[5][3]*B[3]+Inverse[5][4]*B[4]+Inverse[5][5]*B[5]+Inverse[5][6]*B[6]+Inverse[5][7]*B[7]"
   ]
  },
  {
   "cell_type": "code",
   "execution_count": 48,
   "metadata": {},
   "outputs": [],
   "source": [
    "w6=Inverse[6][0]*B[0]+Inverse[6][1]*B[1]+Inverse[6][2]*B[2]+Inverse[6][3]*B[3]+Inverse[6][4]*B[4]+Inverse[6][5]*B[5]+Inverse[6][6]*B[6]+Inverse[6][7]*B[7]"
   ]
  },
  {
   "cell_type": "code",
   "execution_count": 49,
   "metadata": {},
   "outputs": [],
   "source": [
    "w7=Inverse[7][0]*B[0]+Inverse[7][1]*B[1]+Inverse[7][2]*B[2]+Inverse[7][3]*B[3]+Inverse[7][4]*B[4]+Inverse[7][5]*B[5]+Inverse[7][6]*B[6]+Inverse[7][7]*B[7]"
   ]
  },
  {
   "cell_type": "code",
   "execution_count": 50,
   "metadata": {},
   "outputs": [],
   "source": [
    "W=np.array([w0,w1,w2,w3,w4,w5,w6,w7])"
   ]
  },
  {
   "cell_type": "code",
   "execution_count": 51,
   "metadata": {},
   "outputs": [
    {
     "data": {
      "text/plain": [
       "array([ 1.03652082e-02, -8.84526311e+00,  8.84931184e+00, -8.84816856e+00,\n",
       "       -3.98318774e-03, -6.17170551e-03, -8.05017820e-04,  2.04384549e-04])"
      ]
     },
     "execution_count": 51,
     "metadata": {},
     "output_type": "execute_result"
    }
   ],
   "source": [
    "W"
   ]
  },
  {
   "cell_type": "code",
   "execution_count": 52,
   "metadata": {},
   "outputs": [
    {
     "data": {
      "text/html": [
       "<div>\n",
       "<style scoped>\n",
       "    .dataframe tbody tr th:only-of-type {\n",
       "        vertical-align: middle;\n",
       "    }\n",
       "\n",
       "    .dataframe tbody tr th {\n",
       "        vertical-align: top;\n",
       "    }\n",
       "\n",
       "    .dataframe thead th {\n",
       "        text-align: right;\n",
       "    }\n",
       "</style>\n",
       "<table border=\"1\" class=\"dataframe\">\n",
       "  <thead>\n",
       "    <tr style=\"text-align: right;\">\n",
       "      <th></th>\n",
       "      <th>0</th>\n",
       "      <th>1</th>\n",
       "      <th>2</th>\n",
       "      <th>3</th>\n",
       "      <th>4</th>\n",
       "      <th>5</th>\n",
       "      <th>6</th>\n",
       "    </tr>\n",
       "  </thead>\n",
       "  <tbody>\n",
       "    <tr>\n",
       "      <th>0</th>\n",
       "      <td>0.00</td>\n",
       "      <td>0.00</td>\n",
       "      <td>0.00</td>\n",
       "      <td>0.00</td>\n",
       "      <td>30.00</td>\n",
       "      <td>30.00</td>\n",
       "      <td>92.36</td>\n",
       "    </tr>\n",
       "    <tr>\n",
       "      <th>1</th>\n",
       "      <td>1428.75</td>\n",
       "      <td>3977.68</td>\n",
       "      <td>2548.93</td>\n",
       "      <td>1447.86</td>\n",
       "      <td>584.61</td>\n",
       "      <td>1034.75</td>\n",
       "      <td>5979.71</td>\n",
       "    </tr>\n",
       "    <tr>\n",
       "      <th>2</th>\n",
       "      <td>87.00</td>\n",
       "      <td>206.00</td>\n",
       "      <td>119.00</td>\n",
       "      <td>72.14</td>\n",
       "      <td>15.00</td>\n",
       "      <td>15.00</td>\n",
       "      <td>112.86</td>\n",
       "    </tr>\n",
       "    <tr>\n",
       "      <th>3</th>\n",
       "      <td>30.25</td>\n",
       "      <td>69.75</td>\n",
       "      <td>39.50</td>\n",
       "      <td>24.00</td>\n",
       "      <td>6.75</td>\n",
       "      <td>6.75</td>\n",
       "      <td>41.50</td>\n",
       "    </tr>\n",
       "    <tr>\n",
       "      <th>4</th>\n",
       "      <td>14.00</td>\n",
       "      <td>25.00</td>\n",
       "      <td>11.00</td>\n",
       "      <td>8.00</td>\n",
       "      <td>17.00</td>\n",
       "      <td>17.00</td>\n",
       "      <td>45.00</td>\n",
       "    </tr>\n",
       "  </tbody>\n",
       "</table>\n",
       "</div>"
      ],
      "text/plain": [
       "         0        1        2        3       4        5        6\n",
       "0     0.00     0.00     0.00     0.00   30.00    30.00    92.36\n",
       "1  1428.75  3977.68  2548.93  1447.86  584.61  1034.75  5979.71\n",
       "2    87.00   206.00   119.00    72.14   15.00    15.00   112.86\n",
       "3    30.25    69.75    39.50    24.00    6.75     6.75    41.50\n",
       "4    14.00    25.00    11.00     8.00   17.00    17.00    45.00"
      ]
     },
     "execution_count": 52,
     "metadata": {},
     "output_type": "execute_result"
    }
   ],
   "source": [
    "x_test.columns=[0,1,2,3,4,5,6]\n",
    "x_test.head()"
   ]
  },
  {
   "cell_type": "code",
   "execution_count": 53,
   "metadata": {},
   "outputs": [],
   "source": [
    "y_pred=w0+x_test[0]*w1+x_test[1]*w2+x_test[2]*w3+x_test[3]*w4+x_test[4]*w5+x_test[5]*w6+x_test[6]*w7"
   ]
  },
  {
   "cell_type": "code",
   "execution_count": 54,
   "metadata": {},
   "outputs": [
    {
     "data": {
      "text/plain": [
       "0.22359136943741675"
      ]
     },
     "execution_count": 54,
     "metadata": {},
     "output_type": "execute_result"
    }
   ],
   "source": [
    "from sklearn.metrics import mean_squared_error\n",
    "mean_squared_error(y_test, y_pred)"
   ]
  },
  {
   "cell_type": "code",
   "execution_count": 55,
   "metadata": {},
   "outputs": [],
   "source": [
    "results=pd.DataFrame(W)"
   ]
  },
  {
   "cell_type": "code",
   "execution_count": 56,
   "metadata": {},
   "outputs": [],
   "source": [
    "results.to_csv('LR_results', mode='a', index = False, header=None)"
   ]
  },
  {
   "cell_type": "code",
   "execution_count": 246,
   "metadata": {},
   "outputs": [],
   "source": []
  },
  {
   "cell_type": "code",
   "execution_count": 236,
   "metadata": {},
   "outputs": [],
   "source": []
  },
  {
   "cell_type": "code",
   "execution_count": null,
   "metadata": {},
   "outputs": [],
   "source": []
  }
 ],
 "metadata": {
  "kernelspec": {
   "display_name": "Python 3",
   "language": "python",
   "name": "python3"
  },
  "language_info": {
   "codemirror_mode": {
    "name": "ipython",
    "version": 3
   },
   "file_extension": ".py",
   "mimetype": "text/x-python",
   "name": "python",
   "nbconvert_exporter": "python",
   "pygments_lexer": "ipython3",
   "version": "3.7.3"
  }
 },
 "nbformat": 4,
 "nbformat_minor": 2
}
