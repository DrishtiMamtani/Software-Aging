{
 "cells": [
  {
   "cell_type": "code",
   "execution_count": 307,
   "metadata": {},
   "outputs": [],
   "source": [
    "import pandas as pd \n",
    "import numpy as np\n",
    "from sklearn import preprocessing\n",
    "df=pd.read_excel(\"1.xlsx\",header=None)"
   ]
  },
  {
   "cell_type": "code",
   "execution_count": 308,
   "metadata": {},
   "outputs": [],
   "source": [
    "X=df[[67,20,3,72,74,35,68]].iloc[:][1:]"
   ]
  },
  {
   "cell_type": "code",
   "execution_count": 309,
   "metadata": {},
   "outputs": [],
   "source": [
    "y=df[82].iloc[:][1:]"
   ]
  },
  {
   "cell_type": "code",
   "execution_count": 310,
   "metadata": {},
   "outputs": [],
   "source": [
    "from sklearn.model_selection import train_test_split \n",
    "x_train, x_test, y_train, y_test = train_test_split(X, y, test_size=0.3, random_state=1) "
   ]
  },
  {
   "cell_type": "code",
   "execution_count": 313,
   "metadata": {},
   "outputs": [
    {
     "data": {
      "text/plain": [
       "pandas.core.frame.DataFrame"
      ]
     },
     "execution_count": 313,
     "metadata": {},
     "output_type": "execute_result"
    }
   ],
   "source": [
    "x_train.reset_index(inplace = True, drop = True) \n",
    "x_test.reset_index(inplace = True, drop = True) \n",
    "y_train.reset_index(inplace = True, drop = True) \n",
    "y_test.reset_index(inplace = True, drop = True) \n",
    "x_train.columns=[0,1,2,3,4,5,6]\n",
    "n=x_train.count()[0]"
   ]
  },
  {
   "cell_type": "code",
   "execution_count": 284,
   "metadata": {},
   "outputs": [],
   "source": [
    "sum_x1=0\n",
    "sum_x2=0\n",
    "sum_x3=0\n",
    "sum_x4=0\n",
    "sum_x5=0\n",
    "sum_x6=0\n",
    "sum_x7=0\n",
    "sum_y1=0\n",
    "sum_x1x1=0\n",
    "sum_x1x2=0\n",
    "sum_x1x3=0\n",
    "sum_x1x4=0\n",
    "sum_x1x5=0\n",
    "sum_x1x6=0\n",
    "sum_x1x7=0\n",
    "sum_x2x2=0\n",
    "sum_x2x3=0\n",
    "sum_x2x4=0\n",
    "sum_x2x5=0\n",
    "sum_x2x6=0\n",
    "sum_x2x7=0\n",
    "sum_x3x3=0\n",
    "sum_x3x4=0\n",
    "sum_x3x5=0\n",
    "sum_x3x6=0\n",
    "sum_x3x7=0\n",
    "sum_x4x4=0\n",
    "sum_x4x5=0\n",
    "sum_x4x6=0\n",
    "sum_x4x7=0\n",
    "sum_x5x5=0\n",
    "sum_x5x6=0\n",
    "sum_x5x7=0\n",
    "sum_x6x6=0\n",
    "sum_x6x7=0\n",
    "sum_x7x7=0\n",
    "sum_x1y1=0\n",
    "sum_x2y1=0\n",
    "sum_x3y1=0\n",
    "sum_x4y1=0\n",
    "sum_x5y1=0\n",
    "sum_x6y1=0\n",
    "sum_x7y1=0\n",
    "\n",
    "for i in range(0,n):\n",
    "    sum_x1=sum_x1+x_train[0][i]\n",
    "    sum_x2=sum_x2+x_train[1][i]\n",
    "    sum_x3=sum_x3+x_train[2][i]\n",
    "    sum_x4=sum_x4+x_train[3][i]\n",
    "    sum_x5=sum_x5+x_train[4][i]\n",
    "    sum_x6=sum_x6+x_train[5][i]\n",
    "    sum_x7=sum_x7+x_train[6][i]\n",
    "    sum_y1=sum_y1+y_train[i]\n",
    "    sum_x1x1=sum_x1x1+x_train[0][i]*x_train[0][i]\n",
    "    sum_x1x2=sum_x1x2+x_train[0][i]*x_train[1][i]\n",
    "    sum_x1x3=sum_x1x3+x_train[0][i]*x_train[2][i]\n",
    "    sum_x1x4=sum_x1x4+x_train[0][i]*x_train[3][i]\n",
    "    sum_x1x5=sum_x1x5+x_train[0][i]*x_train[4][i]\n",
    "    sum_x1x6=sum_x1x6+x_train[0][i]*x_train[5][i]\n",
    "    sum_x1x7=sum_x1x7+x_train[0][i]*x_train[6][i]\n",
    "    sum_x2x2=sum_x2x2+x_train[1][i]*x_train[1][i]\n",
    "    sum_x2x3=sum_x2x3+x_train[1][i]*x_train[2][i]\n",
    "    sum_x2x4=sum_x2x4+x_train[1][i]*x_train[3][i]\n",
    "    sum_x2x5=sum_x2x5+x_train[1][i]*x_train[4][i]\n",
    "    sum_x2x6=sum_x2x6+x_train[1][i]*x_train[5][i]\n",
    "    sum_x2x7=sum_x2x7+x_train[1][i]*x_train[6][i]\n",
    "    sum_x3x3=sum_x3x3+x_train[2][i]*x_train[2][i]\n",
    "    sum_x3x4=sum_x3x4+x_train[2][i]*x_train[3][i]\n",
    "    sum_x3x5=sum_x3x5+x_train[2][i]*x_train[4][i]\n",
    "    sum_x3x6=sum_x3x6+x_train[2][i]*x_train[5][i]\n",
    "    sum_x3x7=sum_x3x7+x_train[2][i]*x_train[6][i]\n",
    "    sum_x4x4=sum_x4x4+x_train[3][i]*x_train[3][i]\n",
    "    sum_x4x5=sum_x4x5+x_train[3][i]*x_train[4][i]\n",
    "    sum_x4x6=sum_x4x6+x_train[3][i]*x_train[5][i]\n",
    "    sum_x4x7=sum_x4x7+x_train[3][i]*x_train[6][i]\n",
    "    sum_x5x5=sum_x5x5+x_train[4][i]*x_train[4][i]\n",
    "    sum_x5x6=sum_x5x6+x_train[4][i]*x_train[5][i]\n",
    "    sum_x5x7=sum_x5x7+x_train[4][i]*x_train[6][i]\n",
    "    sum_x6x6=sum_x6x6+x_train[5][i]*x_train[5][i]\n",
    "    sum_x6x7=sum_x6x7+x_train[5][i]*x_train[6][i]\n",
    "    sum_x7x7=sum_x7x7+x_train[6][i]*x_train[6][i]\n",
    "    sum_x1y1=sum_x1y1+x_train[0][i]*y_train[i]\n",
    "    sum_x2y1=sum_x2y1+x_train[1][i]*y_train[i]\n",
    "    sum_x3y1=sum_x3y1+x_train[2][i]*y_train[i]\n",
    "    sum_x4y1=sum_x4y1+x_train[3][i]*y_train[i]\n",
    "    sum_x5y1=sum_x5y1+x_train[4][i]*y_train[i]\n",
    "    sum_x6y1=sum_x6y1+x_train[5][i]*y_train[i]\n",
    "    sum_x7y1=sum_x7y1+x_train[6][i]*y_train[i]"
   ]
  },
  {
   "cell_type": "code",
   "execution_count": 285,
   "metadata": {},
   "outputs": [],
   "source": [
    "from sklearn.linear_model import LinearRegression\n",
    "reg = LinearRegression().fit(x_train, y_train)"
   ]
  },
  {
   "cell_type": "code",
   "execution_count": 286,
   "metadata": {},
   "outputs": [
    {
     "data": {
      "text/plain": [
       "array([-0.05522271, -0.00023652,  0.00031087,  0.0554051 , -0.00010512,\n",
       "       -0.00030537, -0.0554288 ])"
      ]
     },
     "execution_count": 286,
     "metadata": {},
     "output_type": "execute_result"
    }
   ],
   "source": [
    "reg.coef_"
   ]
  },
  {
   "cell_type": "code",
   "execution_count": 287,
   "metadata": {},
   "outputs": [
    {
     "data": {
      "text/plain": [
       "-0.004654311243581477"
      ]
     },
     "execution_count": 287,
     "metadata": {},
     "output_type": "execute_result"
    }
   ],
   "source": [
    "reg.intercept_"
   ]
  },
  {
   "cell_type": "code",
   "execution_count": 288,
   "metadata": {},
   "outputs": [],
   "source": [
    "A = np.array([[n, sum_x1, sum_x2,sum_x3,sum_x4,sum_x5,sum_x6,sum_x7], \n",
    "              [sum_x1,sum_x1x1,sum_x1x2,sum_x1x3,sum_x1x4,sum_x1x5,sum_x1x6,sum_x1x7],\n",
    "              [sum_x2,sum_x1x2,sum_x2x2,sum_x2x3,sum_x2x4,sum_x2x5,sum_x2x6,sum_x2x7],\n",
    "              [sum_x3,sum_x1x3,sum_x2x3,sum_x3x3,sum_x3x4,sum_x3x5,sum_x3x6,sum_x3x7],\n",
    "              [sum_x4,sum_x1x4,sum_x2x4,sum_x3x4,sum_x4x4,sum_x4x5,sum_x4x6,sum_x4x7],\n",
    "              [sum_x5,sum_x1x5,sum_x2x5,sum_x3x5,sum_x4x5,sum_x5x5,sum_x5x6,sum_x5x7],\n",
    "              [sum_x6,sum_x1x6,sum_x2x6,sum_x3x6,sum_x4x6,sum_x5x6,sum_x6x6,sum_x6x7],\n",
    "              [sum_x7,sum_x1x7,sum_x2x7,sum_x3x7,sum_x4x7,sum_x5x7,sum_x6x7,sum_x7x7]])"
   ]
  },
  {
   "cell_type": "code",
   "execution_count": 289,
   "metadata": {},
   "outputs": [],
   "source": [
    "B=np.array([sum_y1, sum_x1y1, sum_x2y1,sum_x3y1,sum_x4y1,sum_x5y1,sum_x6y1,sum_x7y1])"
   ]
  },
  {
   "cell_type": "code",
   "execution_count": 290,
   "metadata": {},
   "outputs": [
    {
     "data": {
      "text/plain": [
       "array([[ 9.66302866e-04, -5.49430556e-03, -2.99147807e-05,\n",
       "        -1.53713980e-06,  5.49474498e-03, -8.21646003e-09,\n",
       "        -2.37921736e-06, -5.49361793e-03],\n",
       "       [-5.49430555e-03,  6.12566011e+01,  3.15049419e-03,\n",
       "        -8.89925644e-05, -6.12568949e+01,  1.09017316e-04,\n",
       "         6.27419639e-05,  6.12568957e+01],\n",
       "       [-2.99147807e-05,  3.15049419e-03,  4.54026744e-05,\n",
       "         1.33535717e-09, -3.15504515e-03,  1.73564756e-06,\n",
       "         2.00333175e-07,  3.15503445e-03],\n",
       "       [-1.53713980e-06, -8.89925652e-05,  1.33535714e-09,\n",
       "         1.61588975e-06,  8.90147619e-05, -2.85120208e-08,\n",
       "        -1.63995701e-06, -8.90164840e-05],\n",
       "       [ 5.49474498e-03, -6.12568949e+01, -3.15504515e-03,\n",
       "         8.90147612e-05,  6.12571894e+01, -1.09370028e-04,\n",
       "        -6.27649729e-05, -6.12571902e+01],\n",
       "       [-8.21646004e-09,  1.09017316e-04,  1.73564756e-06,\n",
       "        -2.85120208e-08, -1.09370028e-04,  3.26414689e-07,\n",
       "         1.27010018e-08,  1.09314419e-04],\n",
       "       [-2.37921736e-06,  6.27419647e-05,  2.00333175e-07,\n",
       "        -1.63995701e-06, -6.27649737e-05,  1.27010018e-08,\n",
       "         1.79872208e-06,  6.27426153e-05],\n",
       "       [-5.49361797e-03,  6.12568957e+01,  3.15503445e-03,\n",
       "        -8.90164832e-05, -6.12571902e+01,  1.09314419e-04,\n",
       "         6.27426145e-05,  6.12571911e+01]])"
      ]
     },
     "execution_count": 290,
     "metadata": {},
     "output_type": "execute_result"
    }
   ],
   "source": [
    "from numpy.linalg import inv\n",
    "Inverse=inv(A)\n",
    "Inverse"
   ]
  },
  {
   "cell_type": "code",
   "execution_count": 291,
   "metadata": {},
   "outputs": [
    {
     "data": {
      "text/plain": [
       "array([[1, 0, 0, 0, 0, 0, 0, 0],\n",
       "       [0, 1, 0, 0, 0, 0, 0, 0],\n",
       "       [0, 0, 1, 0, 0, 0, 0, 0],\n",
       "       [0, 0, 0, 1, 0, 0, 0, 0],\n",
       "       [0, 0, 0, 0, 1, 0, 0, 0],\n",
       "       [0, 0, 0, 0, 0, 1, 0, 0],\n",
       "       [0, 0, 0, 0, 0, 0, 1, 0],\n",
       "       [0, 0, 0, 0, 0, 0, 0, 1]])"
      ]
     },
     "execution_count": 291,
     "metadata": {},
     "output_type": "execute_result"
    }
   ],
   "source": [
    "np.around(Inverse @ A).astype(int)"
   ]
  },
  {
   "cell_type": "code",
   "execution_count": 292,
   "metadata": {},
   "outputs": [],
   "source": [
    "w0=Inverse[0][0]*B[0]+Inverse[0][1]*B[1]+Inverse[0][2]*B[2]+Inverse[0][3]*B[3]+Inverse[0][4]*B[4]+Inverse[0][5]*B[5]+Inverse[0][6]*B[6]+Inverse[0][7]*B[7]"
   ]
  },
  {
   "cell_type": "code",
   "execution_count": 293,
   "metadata": {},
   "outputs": [],
   "source": [
    "w1=Inverse[1][0]*B[0]+Inverse[1][1]*B[1]+Inverse[1][2]*B[2]+Inverse[1][3]*B[3]+Inverse[1][4]*B[4]+Inverse[1][5]*B[5]+Inverse[1][6]*B[6]+Inverse[1][7]*B[7]"
   ]
  },
  {
   "cell_type": "code",
   "execution_count": 294,
   "metadata": {},
   "outputs": [],
   "source": [
    "w2=Inverse[2][0]*B[0]+Inverse[2][1]*B[1]+Inverse[2][2]*B[2]+Inverse[2][3]*B[3]+Inverse[2][4]*B[4]+Inverse[2][5]*B[5]+Inverse[2][6]*B[6]+Inverse[2][7]*B[7]"
   ]
  },
  {
   "cell_type": "code",
   "execution_count": 295,
   "metadata": {},
   "outputs": [],
   "source": [
    "w3=Inverse[3][0]*B[0]+Inverse[3][1]*B[1]+Inverse[3][2]*B[2]+Inverse[3][3]*B[3]+Inverse[3][4]*B[4]+Inverse[3][5]*B[5]+Inverse[3][6]*B[6]+Inverse[3][7]*B[7]"
   ]
  },
  {
   "cell_type": "code",
   "execution_count": 296,
   "metadata": {},
   "outputs": [],
   "source": [
    "w4=Inverse[4][0]*B[0]+Inverse[4][1]*B[1]+Inverse[4][2]*B[2]+Inverse[4][3]*B[3]+Inverse[4][4]*B[4]+Inverse[4][5]*B[5]+Inverse[4][6]*B[6]+Inverse[4][7]*B[7]"
   ]
  },
  {
   "cell_type": "code",
   "execution_count": 297,
   "metadata": {},
   "outputs": [],
   "source": [
    "w5=Inverse[5][0]*B[0]+Inverse[5][1]*B[1]+Inverse[5][2]*B[2]+Inverse[5][3]*B[3]+Inverse[5][4]*B[4]+Inverse[5][5]*B[5]+Inverse[5][6]*B[6]+Inverse[5][7]*B[7]"
   ]
  },
  {
   "cell_type": "code",
   "execution_count": 298,
   "metadata": {},
   "outputs": [],
   "source": [
    "w6=Inverse[6][0]*B[0]+Inverse[6][1]*B[1]+Inverse[6][2]*B[2]+Inverse[6][3]*B[3]+Inverse[6][4]*B[4]+Inverse[6][5]*B[5]+Inverse[6][6]*B[6]+Inverse[6][7]*B[7]"
   ]
  },
  {
   "cell_type": "code",
   "execution_count": 299,
   "metadata": {},
   "outputs": [],
   "source": [
    "w7=Inverse[7][0]*B[0]+Inverse[7][1]*B[1]+Inverse[7][2]*B[2]+Inverse[7][3]*B[3]+Inverse[7][4]*B[4]+Inverse[7][5]*B[5]+Inverse[7][6]*B[6]+Inverse[7][7]*B[7]"
   ]
  },
  {
   "cell_type": "code",
   "execution_count": 300,
   "metadata": {},
   "outputs": [],
   "source": [
    "W=np.array([w0,w1,w2,w3,w4,w5,w6,w7])"
   ]
  },
  {
   "cell_type": "code",
   "execution_count": 301,
   "metadata": {},
   "outputs": [
    {
     "data": {
      "text/plain": [
       "array([-0.00465403, -0.05521448, -0.00023654,  0.00031087,  0.05539688,\n",
       "       -0.00010512, -0.00030537, -0.05542057])"
      ]
     },
     "execution_count": 301,
     "metadata": {},
     "output_type": "execute_result"
    }
   ],
   "source": [
    "W"
   ]
  },
  {
   "cell_type": "code",
   "execution_count": 302,
   "metadata": {},
   "outputs": [
    {
     "data": {
      "text/html": [
       "<div>\n",
       "<style scoped>\n",
       "    .dataframe tbody tr th:only-of-type {\n",
       "        vertical-align: middle;\n",
       "    }\n",
       "\n",
       "    .dataframe tbody tr th {\n",
       "        vertical-align: top;\n",
       "    }\n",
       "\n",
       "    .dataframe thead th {\n",
       "        text-align: right;\n",
       "    }\n",
       "</style>\n",
       "<table border=\"1\" class=\"dataframe\">\n",
       "  <thead>\n",
       "    <tr style=\"text-align: right;\">\n",
       "      <th></th>\n",
       "      <th>0</th>\n",
       "      <th>1</th>\n",
       "      <th>2</th>\n",
       "      <th>3</th>\n",
       "      <th>4</th>\n",
       "      <th>5</th>\n",
       "      <th>6</th>\n",
       "    </tr>\n",
       "  </thead>\n",
       "  <tbody>\n",
       "    <tr>\n",
       "      <th>0</th>\n",
       "      <td>345.00</td>\n",
       "      <td>16.00</td>\n",
       "      <td>174.0</td>\n",
       "      <td>885.00</td>\n",
       "      <td>398.00</td>\n",
       "      <td>173.0</td>\n",
       "      <td>540.00</td>\n",
       "    </tr>\n",
       "    <tr>\n",
       "      <th>1</th>\n",
       "      <td>978.00</td>\n",
       "      <td>58.00</td>\n",
       "      <td>435.0</td>\n",
       "      <td>2642.00</td>\n",
       "      <td>1006.00</td>\n",
       "      <td>400.0</td>\n",
       "      <td>1664.00</td>\n",
       "    </tr>\n",
       "    <tr>\n",
       "      <th>2</th>\n",
       "      <td>22.00</td>\n",
       "      <td>2.00</td>\n",
       "      <td>17.0</td>\n",
       "      <td>28.00</td>\n",
       "      <td>10.00</td>\n",
       "      <td>16.0</td>\n",
       "      <td>6.00</td>\n",
       "    </tr>\n",
       "    <tr>\n",
       "      <th>3</th>\n",
       "      <td>275.56</td>\n",
       "      <td>14.33</td>\n",
       "      <td>69.0</td>\n",
       "      <td>642.89</td>\n",
       "      <td>254.89</td>\n",
       "      <td>69.0</td>\n",
       "      <td>367.33</td>\n",
       "    </tr>\n",
       "    <tr>\n",
       "      <th>4</th>\n",
       "      <td>0.00</td>\n",
       "      <td>0.00</td>\n",
       "      <td>40.0</td>\n",
       "      <td>0.00</td>\n",
       "      <td>0.00</td>\n",
       "      <td>40.0</td>\n",
       "      <td>0.00</td>\n",
       "    </tr>\n",
       "  </tbody>\n",
       "</table>\n",
       "</div>"
      ],
      "text/plain": [
       "        0      1      2        3        4      5        6\n",
       "0  345.00  16.00  174.0   885.00   398.00  173.0   540.00\n",
       "1  978.00  58.00  435.0  2642.00  1006.00  400.0  1664.00\n",
       "2   22.00   2.00   17.0    28.00    10.00   16.0     6.00\n",
       "3  275.56  14.33   69.0   642.89   254.89   69.0   367.33\n",
       "4    0.00   0.00   40.0     0.00     0.00   40.0     0.00"
      ]
     },
     "execution_count": 302,
     "metadata": {},
     "output_type": "execute_result"
    }
   ],
   "source": [
    "x_test.columns=[0,1,2,3,4,5,6]\n",
    "x_test.head()"
   ]
  },
  {
   "cell_type": "code",
   "execution_count": 303,
   "metadata": {},
   "outputs": [],
   "source": [
    "y_pred=w0+x_test[0]*w1+x_test[1]*w2+x_test[2]*w3+x_test[3]*w4+x_test[4]*w5+x_test[5]*w6+x_test[6]*w7"
   ]
  },
  {
   "cell_type": "code",
   "execution_count": 304,
   "metadata": {},
   "outputs": [
    {
     "data": {
      "text/plain": [
       "0.008312269170661898"
      ]
     },
     "execution_count": 304,
     "metadata": {},
     "output_type": "execute_result"
    }
   ],
   "source": [
    "from sklearn.metrics import mean_squared_error\n",
    "mean_squared_error(y_test, y_pred)"
   ]
  },
  {
   "cell_type": "code",
   "execution_count": 305,
   "metadata": {},
   "outputs": [],
   "source": [
    "results=pd.DataFrame(W)"
   ]
  },
  {
   "cell_type": "code",
   "execution_count": 306,
   "metadata": {},
   "outputs": [],
   "source": [
    "results.to_csv('LR_results', mode='a', index = False, header=None)"
   ]
  },
  {
   "cell_type": "code",
   "execution_count": 246,
   "metadata": {},
   "outputs": [],
   "source": []
  },
  {
   "cell_type": "code",
   "execution_count": 236,
   "metadata": {},
   "outputs": [],
   "source": []
  },
  {
   "cell_type": "code",
   "execution_count": null,
   "metadata": {},
   "outputs": [],
   "source": []
  }
 ],
 "metadata": {
  "kernelspec": {
   "display_name": "Python 3",
   "language": "python",
   "name": "python3"
  },
  "language_info": {
   "codemirror_mode": {
    "name": "ipython",
    "version": 3
   },
   "file_extension": ".py",
   "mimetype": "text/x-python",
   "name": "python",
   "nbconvert_exporter": "python",
   "pygments_lexer": "ipython3",
   "version": "3.7.3"
  }
 },
 "nbformat": 4,
 "nbformat_minor": 2
}
