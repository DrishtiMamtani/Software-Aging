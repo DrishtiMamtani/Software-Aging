{
 "cells": [
  {
   "cell_type": "code",
   "execution_count": 28,
   "metadata": {},
   "outputs": [],
   "source": [
    "import pandas as pd \n",
    "import numpy as np\n",
    "from sklearn import preprocessing\n",
    "df=pd.read_excel(\"5.xlsx\",header=None)"
   ]
  },
  {
   "cell_type": "code",
   "execution_count": 29,
   "metadata": {},
   "outputs": [],
   "source": [
    "X=df[[78,3,34,4,79,35,38]].iloc[:][1:]"
   ]
  },
  {
   "cell_type": "code",
   "execution_count": 30,
   "metadata": {},
   "outputs": [],
   "source": [
    "y=df[82].iloc[:][1:]"
   ]
  },
  {
   "cell_type": "code",
   "execution_count": 31,
   "metadata": {},
   "outputs": [],
   "source": [
    "from sklearn.model_selection import train_test_split \n",
    "x_train, x_test, y_train, y_test = train_test_split(X, y, test_size=0.3, random_state=1) "
   ]
  },
  {
   "cell_type": "code",
   "execution_count": 32,
   "metadata": {},
   "outputs": [
    {
     "data": {
      "text/html": [
       "<div>\n",
       "<style scoped>\n",
       "    .dataframe tbody tr th:only-of-type {\n",
       "        vertical-align: middle;\n",
       "    }\n",
       "\n",
       "    .dataframe tbody tr th {\n",
       "        vertical-align: top;\n",
       "    }\n",
       "\n",
       "    .dataframe thead th {\n",
       "        text-align: right;\n",
       "    }\n",
       "</style>\n",
       "<table border=\"1\" class=\"dataframe\">\n",
       "  <thead>\n",
       "    <tr style=\"text-align: right;\">\n",
       "      <th></th>\n",
       "      <th>0</th>\n",
       "      <th>1</th>\n",
       "      <th>2</th>\n",
       "      <th>3</th>\n",
       "      <th>4</th>\n",
       "      <th>5</th>\n",
       "      <th>6</th>\n",
       "    </tr>\n",
       "  </thead>\n",
       "  <tbody>\n",
       "    <tr>\n",
       "      <th>0</th>\n",
       "      <td>0.00</td>\n",
       "      <td>10.00</td>\n",
       "      <td>142.00</td>\n",
       "      <td>57.00</td>\n",
       "      <td>0.00</td>\n",
       "      <td>10.00</td>\n",
       "      <td>0.00</td>\n",
       "    </tr>\n",
       "    <tr>\n",
       "      <th>1</th>\n",
       "      <td>0.00</td>\n",
       "      <td>5.00</td>\n",
       "      <td>19.00</td>\n",
       "      <td>5.00</td>\n",
       "      <td>0.00</td>\n",
       "      <td>5.00</td>\n",
       "      <td>0.00</td>\n",
       "    </tr>\n",
       "    <tr>\n",
       "      <th>2</th>\n",
       "      <td>240.05</td>\n",
       "      <td>363.75</td>\n",
       "      <td>2117.05</td>\n",
       "      <td>1294.30</td>\n",
       "      <td>67.85</td>\n",
       "      <td>331.45</td>\n",
       "      <td>630.95</td>\n",
       "    </tr>\n",
       "    <tr>\n",
       "      <th>3</th>\n",
       "      <td>0.00</td>\n",
       "      <td>25.00</td>\n",
       "      <td>486.00</td>\n",
       "      <td>197.00</td>\n",
       "      <td>0.00</td>\n",
       "      <td>25.00</td>\n",
       "      <td>0.00</td>\n",
       "    </tr>\n",
       "    <tr>\n",
       "      <th>4</th>\n",
       "      <td>71.05</td>\n",
       "      <td>160.40</td>\n",
       "      <td>839.35</td>\n",
       "      <td>487.75</td>\n",
       "      <td>21.45</td>\n",
       "      <td>160.40</td>\n",
       "      <td>268.55</td>\n",
       "    </tr>\n",
       "  </tbody>\n",
       "</table>\n",
       "</div>"
      ],
      "text/plain": [
       "        0       1        2        3      4       5       6\n",
       "0    0.00   10.00   142.00    57.00   0.00   10.00    0.00\n",
       "1    0.00    5.00    19.00     5.00   0.00    5.00    0.00\n",
       "2  240.05  363.75  2117.05  1294.30  67.85  331.45  630.95\n",
       "3    0.00   25.00   486.00   197.00   0.00   25.00    0.00\n",
       "4   71.05  160.40   839.35   487.75  21.45  160.40  268.55"
      ]
     },
     "execution_count": 32,
     "metadata": {},
     "output_type": "execute_result"
    }
   ],
   "source": [
    "x_train.reset_index(inplace = True, drop = True) \n",
    "x_test.reset_index(inplace = True, drop = True) \n",
    "y_train.reset_index(inplace = True, drop = True) \n",
    "y_test.reset_index(inplace = True, drop = True) \n",
    "x_train.columns=[0,1,2,3,4,5,6]\n",
    "n=x_train.count()[0]\n",
    "x_train.head()"
   ]
  },
  {
   "cell_type": "code",
   "execution_count": 33,
   "metadata": {},
   "outputs": [],
   "source": [
    "sum_x1=0\n",
    "sum_x2=0\n",
    "sum_x3=0\n",
    "sum_x4=0\n",
    "sum_x5=0\n",
    "sum_x6=0\n",
    "sum_x7=0\n",
    "sum_y1=0\n",
    "sum_x1x1=0\n",
    "sum_x1x2=0\n",
    "sum_x1x3=0\n",
    "sum_x1x4=0\n",
    "sum_x1x5=0\n",
    "sum_x1x6=0\n",
    "sum_x1x7=0\n",
    "sum_x2x2=0\n",
    "sum_x2x3=0\n",
    "sum_x2x4=0\n",
    "sum_x2x5=0\n",
    "sum_x2x6=0\n",
    "sum_x2x7=0\n",
    "sum_x3x3=0\n",
    "sum_x3x4=0\n",
    "sum_x3x5=0\n",
    "sum_x3x6=0\n",
    "sum_x3x7=0\n",
    "sum_x4x4=0\n",
    "sum_x4x5=0\n",
    "sum_x4x6=0\n",
    "sum_x4x7=0\n",
    "sum_x5x5=0\n",
    "sum_x5x6=0\n",
    "sum_x5x7=0\n",
    "sum_x6x6=0\n",
    "sum_x6x7=0\n",
    "sum_x7x7=0\n",
    "sum_x1y1=0\n",
    "sum_x2y1=0\n",
    "sum_x3y1=0\n",
    "sum_x4y1=0\n",
    "sum_x5y1=0\n",
    "sum_x6y1=0\n",
    "sum_x7y1=0\n",
    "\n",
    "for i in range(0,n):\n",
    "    sum_x1=sum_x1+x_train[0][i]\n",
    "    sum_x2=sum_x2+x_train[1][i]\n",
    "    sum_x3=sum_x3+x_train[2][i]\n",
    "    sum_x4=sum_x4+x_train[3][i]\n",
    "    sum_x5=sum_x5+x_train[4][i]\n",
    "    sum_x6=sum_x6+x_train[5][i]\n",
    "    sum_x7=sum_x7+x_train[6][i]\n",
    "    sum_y1=sum_y1+y_train[i]\n",
    "    sum_x1x1=sum_x1x1+x_train[0][i]*x_train[0][i]\n",
    "    sum_x1x2=sum_x1x2+x_train[0][i]*x_train[1][i]\n",
    "    sum_x1x3=sum_x1x3+x_train[0][i]*x_train[2][i]\n",
    "    sum_x1x4=sum_x1x4+x_train[0][i]*x_train[3][i]\n",
    "    sum_x1x5=sum_x1x5+x_train[0][i]*x_train[4][i]\n",
    "    sum_x1x6=sum_x1x6+x_train[0][i]*x_train[5][i]\n",
    "    sum_x1x7=sum_x1x7+x_train[0][i]*x_train[6][i]\n",
    "    sum_x2x2=sum_x2x2+x_train[1][i]*x_train[1][i]\n",
    "    sum_x2x3=sum_x2x3+x_train[1][i]*x_train[2][i]\n",
    "    sum_x2x4=sum_x2x4+x_train[1][i]*x_train[3][i]\n",
    "    sum_x2x5=sum_x2x5+x_train[1][i]*x_train[4][i]\n",
    "    sum_x2x6=sum_x2x6+x_train[1][i]*x_train[5][i]\n",
    "    sum_x2x7=sum_x2x7+x_train[1][i]*x_train[6][i]\n",
    "    sum_x3x3=sum_x3x3+x_train[2][i]*x_train[2][i]\n",
    "    sum_x3x4=sum_x3x4+x_train[2][i]*x_train[3][i]\n",
    "    sum_x3x5=sum_x3x5+x_train[2][i]*x_train[4][i]\n",
    "    sum_x3x6=sum_x3x6+x_train[2][i]*x_train[5][i]\n",
    "    sum_x3x7=sum_x3x7+x_train[2][i]*x_train[6][i]\n",
    "    sum_x4x4=sum_x4x4+x_train[3][i]*x_train[3][i]\n",
    "    sum_x4x5=sum_x4x5+x_train[3][i]*x_train[4][i]\n",
    "    sum_x4x6=sum_x4x6+x_train[3][i]*x_train[5][i]\n",
    "    sum_x4x7=sum_x4x7+x_train[3][i]*x_train[6][i]\n",
    "    sum_x5x5=sum_x5x5+x_train[4][i]*x_train[4][i]\n",
    "    sum_x5x6=sum_x5x6+x_train[4][i]*x_train[5][i]\n",
    "    sum_x5x7=sum_x5x7+x_train[4][i]*x_train[6][i]\n",
    "    sum_x6x6=sum_x6x6+x_train[5][i]*x_train[5][i]\n",
    "    sum_x6x7=sum_x6x7+x_train[5][i]*x_train[6][i]\n",
    "    sum_x7x7=sum_x7x7+x_train[6][i]*x_train[6][i]\n",
    "    sum_x1y1=sum_x1y1+x_train[0][i]*y_train[i]\n",
    "    sum_x2y1=sum_x2y1+x_train[1][i]*y_train[i]\n",
    "    sum_x3y1=sum_x3y1+x_train[2][i]*y_train[i]\n",
    "    sum_x4y1=sum_x4y1+x_train[3][i]*y_train[i]\n",
    "    sum_x5y1=sum_x5y1+x_train[4][i]*y_train[i]\n",
    "    sum_x6y1=sum_x6y1+x_train[5][i]*y_train[i]\n",
    "    sum_x7y1=sum_x7y1+x_train[6][i]*y_train[i]"
   ]
  },
  {
   "cell_type": "code",
   "execution_count": 34,
   "metadata": {},
   "outputs": [],
   "source": [
    "from sklearn.linear_model import LinearRegression\n",
    "reg = LinearRegression().fit(x_train, y_train)"
   ]
  },
  {
   "cell_type": "code",
   "execution_count": 35,
   "metadata": {},
   "outputs": [
    {
     "data": {
      "text/plain": [
       "array([ 0.00113717,  0.0014744 ,  0.00035813, -0.00060783,  0.00126464,\n",
       "       -0.00278761,  0.00063987])"
      ]
     },
     "execution_count": 35,
     "metadata": {},
     "output_type": "execute_result"
    }
   ],
   "source": [
    "reg.coef_"
   ]
  },
  {
   "cell_type": "code",
   "execution_count": 36,
   "metadata": {},
   "outputs": [
    {
     "data": {
      "text/plain": [
       "0.029904077215887948"
      ]
     },
     "execution_count": 36,
     "metadata": {},
     "output_type": "execute_result"
    }
   ],
   "source": [
    "reg.intercept_"
   ]
  },
  {
   "cell_type": "code",
   "execution_count": 37,
   "metadata": {},
   "outputs": [],
   "source": [
    "A = np.array([[n, sum_x1, sum_x2,sum_x3,sum_x4,sum_x5,sum_x6,sum_x7], \n",
    "              [sum_x1,sum_x1x1,sum_x1x2,sum_x1x3,sum_x1x4,sum_x1x5,sum_x1x6,sum_x1x7],\n",
    "              [sum_x2,sum_x1x2,sum_x2x2,sum_x2x3,sum_x2x4,sum_x2x5,sum_x2x6,sum_x2x7],\n",
    "              [sum_x3,sum_x1x3,sum_x2x3,sum_x3x3,sum_x3x4,sum_x3x5,sum_x3x6,sum_x3x7],\n",
    "              [sum_x4,sum_x1x4,sum_x2x4,sum_x3x4,sum_x4x4,sum_x4x5,sum_x4x6,sum_x4x7],\n",
    "              [sum_x5,sum_x1x5,sum_x2x5,sum_x3x5,sum_x4x5,sum_x5x5,sum_x5x6,sum_x5x7],\n",
    "              [sum_x6,sum_x1x6,sum_x2x6,sum_x3x6,sum_x4x6,sum_x5x6,sum_x6x6,sum_x6x7],\n",
    "              [sum_x7,sum_x1x7,sum_x2x7,sum_x3x7,sum_x4x7,sum_x5x7,sum_x6x7,sum_x7x7]])"
   ]
  },
  {
   "cell_type": "code",
   "execution_count": 38,
   "metadata": {},
   "outputs": [],
   "source": [
    "B=np.array([sum_y1, sum_x1y1, sum_x2y1,sum_x3y1,sum_x4y1,sum_x5y1,sum_x6y1,sum_x7y1])"
   ]
  },
  {
   "cell_type": "code",
   "execution_count": 39,
   "metadata": {},
   "outputs": [
    {
     "data": {
      "text/plain": [
       "array([[ 6.70314745e-03, -1.41767476e-05,  4.54524194e-05,\n",
       "        -9.14811892e-06, -3.78958452e-06,  2.04213066e-05,\n",
       "        -4.74286908e-05,  2.97856531e-05],\n",
       "       [-1.41767476e-05,  6.53978678e-06, -1.79769989e-06,\n",
       "         1.92043326e-08,  8.58107143e-08, -1.85204297e-05,\n",
       "         2.53646927e-06, -6.28075183e-07],\n",
       "       [ 4.54524194e-05, -1.79769989e-06,  6.53092000e-06,\n",
       "         2.22781314e-07, -1.17010311e-06,  5.05651395e-06,\n",
       "        -6.67223147e-06,  1.36774751e-06],\n",
       "       [-9.14811892e-06,  1.92043326e-08,  2.22781314e-07,\n",
       "         3.49054952e-07, -5.37546617e-07,  6.07633182e-07,\n",
       "        -8.97813057e-07,  2.70185864e-07],\n",
       "       [-3.78958452e-06,  8.58107143e-08, -1.17010311e-06,\n",
       "        -5.37546617e-07,  1.05490298e-06, -1.13371545e-06,\n",
       "         2.05203230e-06, -7.19121568e-07],\n",
       "       [ 2.04213066e-05, -1.85204297e-05,  5.05651395e-06,\n",
       "         6.07633182e-07, -1.13371545e-06,  6.69100726e-05,\n",
       "        -1.09928764e-05,  2.68496778e-06],\n",
       "       [-4.74286908e-05,  2.53646927e-06, -6.67223147e-06,\n",
       "        -8.97813057e-07,  2.05203230e-06, -1.09928764e-05,\n",
       "         1.02667798e-05, -2.60210470e-06],\n",
       "       [ 2.97856531e-05, -6.28075183e-07,  1.36774751e-06,\n",
       "         2.70185864e-07, -7.19121568e-07,  2.68496778e-06,\n",
       "        -2.60210470e-06,  1.07828505e-06]])"
      ]
     },
     "execution_count": 39,
     "metadata": {},
     "output_type": "execute_result"
    }
   ],
   "source": [
    "from numpy.linalg import inv\n",
    "Inverse=inv(A)\n",
    "Inverse"
   ]
  },
  {
   "cell_type": "code",
   "execution_count": 40,
   "metadata": {},
   "outputs": [
    {
     "data": {
      "text/plain": [
       "array([[1, 0, 0, 0, 0, 0, 0, 0],\n",
       "       [0, 1, 0, 0, 0, 0, 0, 0],\n",
       "       [0, 0, 1, 0, 0, 0, 0, 0],\n",
       "       [0, 0, 0, 1, 0, 0, 0, 0],\n",
       "       [0, 0, 0, 0, 1, 0, 0, 0],\n",
       "       [0, 0, 0, 0, 0, 1, 0, 0],\n",
       "       [0, 0, 0, 0, 0, 0, 1, 0],\n",
       "       [0, 0, 0, 0, 0, 0, 0, 1]])"
      ]
     },
     "execution_count": 40,
     "metadata": {},
     "output_type": "execute_result"
    }
   ],
   "source": [
    "np.around(Inverse @ A).astype(int)"
   ]
  },
  {
   "cell_type": "code",
   "execution_count": 41,
   "metadata": {},
   "outputs": [],
   "source": [
    "w0=Inverse[0][0]*B[0]+Inverse[0][1]*B[1]+Inverse[0][2]*B[2]+Inverse[0][3]*B[3]+Inverse[0][4]*B[4]+Inverse[0][5]*B[5]+Inverse[0][6]*B[6]+Inverse[0][7]*B[7]"
   ]
  },
  {
   "cell_type": "code",
   "execution_count": 42,
   "metadata": {},
   "outputs": [],
   "source": [
    "w1=Inverse[1][0]*B[0]+Inverse[1][1]*B[1]+Inverse[1][2]*B[2]+Inverse[1][3]*B[3]+Inverse[1][4]*B[4]+Inverse[1][5]*B[5]+Inverse[1][6]*B[6]+Inverse[1][7]*B[7]"
   ]
  },
  {
   "cell_type": "code",
   "execution_count": 43,
   "metadata": {},
   "outputs": [],
   "source": [
    "w2=Inverse[2][0]*B[0]+Inverse[2][1]*B[1]+Inverse[2][2]*B[2]+Inverse[2][3]*B[3]+Inverse[2][4]*B[4]+Inverse[2][5]*B[5]+Inverse[2][6]*B[6]+Inverse[2][7]*B[7]"
   ]
  },
  {
   "cell_type": "code",
   "execution_count": 44,
   "metadata": {},
   "outputs": [],
   "source": [
    "w3=Inverse[3][0]*B[0]+Inverse[3][1]*B[1]+Inverse[3][2]*B[2]+Inverse[3][3]*B[3]+Inverse[3][4]*B[4]+Inverse[3][5]*B[5]+Inverse[3][6]*B[6]+Inverse[3][7]*B[7]"
   ]
  },
  {
   "cell_type": "code",
   "execution_count": 45,
   "metadata": {},
   "outputs": [],
   "source": [
    "w4=Inverse[4][0]*B[0]+Inverse[4][1]*B[1]+Inverse[4][2]*B[2]+Inverse[4][3]*B[3]+Inverse[4][4]*B[4]+Inverse[4][5]*B[5]+Inverse[4][6]*B[6]+Inverse[4][7]*B[7]"
   ]
  },
  {
   "cell_type": "code",
   "execution_count": 46,
   "metadata": {},
   "outputs": [],
   "source": [
    "w5=Inverse[5][0]*B[0]+Inverse[5][1]*B[1]+Inverse[5][2]*B[2]+Inverse[5][3]*B[3]+Inverse[5][4]*B[4]+Inverse[5][5]*B[5]+Inverse[5][6]*B[6]+Inverse[5][7]*B[7]"
   ]
  },
  {
   "cell_type": "code",
   "execution_count": 47,
   "metadata": {},
   "outputs": [],
   "source": [
    "w6=Inverse[6][0]*B[0]+Inverse[6][1]*B[1]+Inverse[6][2]*B[2]+Inverse[6][3]*B[3]+Inverse[6][4]*B[4]+Inverse[6][5]*B[5]+Inverse[6][6]*B[6]+Inverse[6][7]*B[7]"
   ]
  },
  {
   "cell_type": "code",
   "execution_count": 48,
   "metadata": {},
   "outputs": [],
   "source": [
    "w7=Inverse[7][0]*B[0]+Inverse[7][1]*B[1]+Inverse[7][2]*B[2]+Inverse[7][3]*B[3]+Inverse[7][4]*B[4]+Inverse[7][5]*B[5]+Inverse[7][6]*B[6]+Inverse[7][7]*B[7]"
   ]
  },
  {
   "cell_type": "code",
   "execution_count": 49,
   "metadata": {},
   "outputs": [],
   "source": [
    "W=np.array([w0,w1,w2,w3,w4,w5,w6,w7])"
   ]
  },
  {
   "cell_type": "code",
   "execution_count": 50,
   "metadata": {},
   "outputs": [
    {
     "data": {
      "text/plain": [
       "array([ 0.02990408,  0.00113717,  0.0014744 ,  0.00035813, -0.00060783,\n",
       "        0.00126464, -0.00278761,  0.00063987])"
      ]
     },
     "execution_count": 50,
     "metadata": {},
     "output_type": "execute_result"
    }
   ],
   "source": [
    "W"
   ]
  },
  {
   "cell_type": "code",
   "execution_count": 51,
   "metadata": {},
   "outputs": [
    {
     "data": {
      "text/html": [
       "<div>\n",
       "<style scoped>\n",
       "    .dataframe tbody tr th:only-of-type {\n",
       "        vertical-align: middle;\n",
       "    }\n",
       "\n",
       "    .dataframe tbody tr th {\n",
       "        vertical-align: top;\n",
       "    }\n",
       "\n",
       "    .dataframe thead th {\n",
       "        text-align: right;\n",
       "    }\n",
       "</style>\n",
       "<table border=\"1\" class=\"dataframe\">\n",
       "  <thead>\n",
       "    <tr style=\"text-align: right;\">\n",
       "      <th></th>\n",
       "      <th>0</th>\n",
       "      <th>1</th>\n",
       "      <th>2</th>\n",
       "      <th>3</th>\n",
       "      <th>4</th>\n",
       "      <th>5</th>\n",
       "      <th>6</th>\n",
       "    </tr>\n",
       "  </thead>\n",
       "  <tbody>\n",
       "    <tr>\n",
       "      <th>0</th>\n",
       "      <td>35.0</td>\n",
       "      <td>76.0</td>\n",
       "      <td>308.0</td>\n",
       "      <td>186.0</td>\n",
       "      <td>6.0</td>\n",
       "      <td>76.0</td>\n",
       "      <td>92.0</td>\n",
       "    </tr>\n",
       "    <tr>\n",
       "      <th>1</th>\n",
       "      <td>0.0</td>\n",
       "      <td>17.0</td>\n",
       "      <td>406.4</td>\n",
       "      <td>178.0</td>\n",
       "      <td>0.0</td>\n",
       "      <td>17.0</td>\n",
       "      <td>0.0</td>\n",
       "    </tr>\n",
       "    <tr>\n",
       "      <th>2</th>\n",
       "      <td>10.0</td>\n",
       "      <td>11.0</td>\n",
       "      <td>79.0</td>\n",
       "      <td>38.0</td>\n",
       "      <td>3.0</td>\n",
       "      <td>11.0</td>\n",
       "      <td>16.0</td>\n",
       "    </tr>\n",
       "    <tr>\n",
       "      <th>3</th>\n",
       "      <td>0.0</td>\n",
       "      <td>7.0</td>\n",
       "      <td>45.0</td>\n",
       "      <td>27.0</td>\n",
       "      <td>0.0</td>\n",
       "      <td>7.0</td>\n",
       "      <td>0.0</td>\n",
       "    </tr>\n",
       "    <tr>\n",
       "      <th>4</th>\n",
       "      <td>0.0</td>\n",
       "      <td>11.0</td>\n",
       "      <td>234.0</td>\n",
       "      <td>198.0</td>\n",
       "      <td>0.0</td>\n",
       "      <td>11.0</td>\n",
       "      <td>0.0</td>\n",
       "    </tr>\n",
       "  </tbody>\n",
       "</table>\n",
       "</div>"
      ],
      "text/plain": [
       "      0     1      2      3    4     5     6\n",
       "0  35.0  76.0  308.0  186.0  6.0  76.0  92.0\n",
       "1   0.0  17.0  406.4  178.0  0.0  17.0   0.0\n",
       "2  10.0  11.0   79.0   38.0  3.0  11.0  16.0\n",
       "3   0.0   7.0   45.0   27.0  0.0   7.0   0.0\n",
       "4   0.0  11.0  234.0  198.0  0.0  11.0   0.0"
      ]
     },
     "execution_count": 51,
     "metadata": {},
     "output_type": "execute_result"
    }
   ],
   "source": [
    "x_test.columns=[0,1,2,3,4,5,6]\n",
    "x_test.head()"
   ]
  },
  {
   "cell_type": "code",
   "execution_count": 52,
   "metadata": {},
   "outputs": [],
   "source": [
    "y_pred=w0+x_test[0]*w1+x_test[1]*w2+x_test[2]*w3+x_test[3]*w4+x_test[4]*w5+x_test[5]*w6+x_test[6]*w7"
   ]
  },
  {
   "cell_type": "code",
   "execution_count": 53,
   "metadata": {},
   "outputs": [
    {
     "data": {
      "text/plain": [
       "0.05574657844737738"
      ]
     },
     "execution_count": 53,
     "metadata": {},
     "output_type": "execute_result"
    }
   ],
   "source": [
    "from sklearn.metrics import mean_squared_error\n",
    "mean_squared_error(y_test, y_pred)"
   ]
  },
  {
   "cell_type": "code",
   "execution_count": 54,
   "metadata": {},
   "outputs": [],
   "source": [
    "results=pd.DataFrame(W)"
   ]
  },
  {
   "cell_type": "code",
   "execution_count": 55,
   "metadata": {},
   "outputs": [],
   "source": [
    "results.to_csv('LR_results', mode='a', index = False, header=None)"
   ]
  },
  {
   "cell_type": "code",
   "execution_count": null,
   "metadata": {},
   "outputs": [],
   "source": []
  },
  {
   "cell_type": "code",
   "execution_count": null,
   "metadata": {},
   "outputs": [],
   "source": []
  },
  {
   "cell_type": "code",
   "execution_count": null,
   "metadata": {},
   "outputs": [],
   "source": []
  },
  {
   "cell_type": "code",
   "execution_count": null,
   "metadata": {},
   "outputs": [],
   "source": []
  },
  {
   "cell_type": "code",
   "execution_count": null,
   "metadata": {},
   "outputs": [],
   "source": []
  },
  {
   "cell_type": "code",
   "execution_count": null,
   "metadata": {},
   "outputs": [],
   "source": []
  },
  {
   "cell_type": "code",
   "execution_count": null,
   "metadata": {},
   "outputs": [],
   "source": []
  }
 ],
 "metadata": {
  "kernelspec": {
   "display_name": "Python 3",
   "language": "python",
   "name": "python3"
  },
  "language_info": {
   "codemirror_mode": {
    "name": "ipython",
    "version": 3
   },
   "file_extension": ".py",
   "mimetype": "text/x-python",
   "name": "python",
   "nbconvert_exporter": "python",
   "pygments_lexer": "ipython3",
   "version": "3.7.3"
  }
 },
 "nbformat": 4,
 "nbformat_minor": 2
}
