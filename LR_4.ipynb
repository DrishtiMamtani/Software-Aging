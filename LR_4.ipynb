{
 "cells": [
  {
   "cell_type": "code",
   "execution_count": 29,
   "metadata": {},
   "outputs": [],
   "source": [
    "import pandas as pd \n",
    "import numpy as np\n",
    "from sklearn import preprocessing\n",
    "df=pd.read_excel(\"4.xlsx\",header=None)"
   ]
  },
  {
   "cell_type": "code",
   "execution_count": 30,
   "metadata": {},
   "outputs": [],
   "source": [
    "X=df[[74,76,46,20,39,81,44]].iloc[:][1:]"
   ]
  },
  {
   "cell_type": "code",
   "execution_count": 31,
   "metadata": {},
   "outputs": [],
   "source": [
    "y=df[82].iloc[:][1:]"
   ]
  },
  {
   "cell_type": "code",
   "execution_count": 32,
   "metadata": {},
   "outputs": [],
   "source": [
    "from sklearn.model_selection import train_test_split \n",
    "x_train, x_test, y_train, y_test = train_test_split(X, y, test_size=0.3, random_state=1) "
   ]
  },
  {
   "cell_type": "code",
   "execution_count": 33,
   "metadata": {},
   "outputs": [
    {
     "data": {
      "text/html": [
       "<div>\n",
       "<style scoped>\n",
       "    .dataframe tbody tr th:only-of-type {\n",
       "        vertical-align: middle;\n",
       "    }\n",
       "\n",
       "    .dataframe tbody tr th {\n",
       "        vertical-align: top;\n",
       "    }\n",
       "\n",
       "    .dataframe thead th {\n",
       "        text-align: right;\n",
       "    }\n",
       "</style>\n",
       "<table border=\"1\" class=\"dataframe\">\n",
       "  <thead>\n",
       "    <tr style=\"text-align: right;\">\n",
       "      <th></th>\n",
       "      <th>0</th>\n",
       "      <th>1</th>\n",
       "      <th>2</th>\n",
       "      <th>3</th>\n",
       "      <th>4</th>\n",
       "      <th>5</th>\n",
       "      <th>6</th>\n",
       "    </tr>\n",
       "  </thead>\n",
       "  <tbody>\n",
       "    <tr>\n",
       "      <th>0</th>\n",
       "      <td>61.50</td>\n",
       "      <td>0.00</td>\n",
       "      <td>16.00</td>\n",
       "      <td>5.00</td>\n",
       "      <td>19.00</td>\n",
       "      <td>3.0</td>\n",
       "      <td>40.75</td>\n",
       "    </tr>\n",
       "    <tr>\n",
       "      <th>1</th>\n",
       "      <td>390.97</td>\n",
       "      <td>0.57</td>\n",
       "      <td>79.08</td>\n",
       "      <td>22.18</td>\n",
       "      <td>90.42</td>\n",
       "      <td>6.1</td>\n",
       "      <td>266.29</td>\n",
       "    </tr>\n",
       "    <tr>\n",
       "      <th>2</th>\n",
       "      <td>0.00</td>\n",
       "      <td>0.00</td>\n",
       "      <td>2.00</td>\n",
       "      <td>0.00</td>\n",
       "      <td>5.00</td>\n",
       "      <td>0.0</td>\n",
       "      <td>2.00</td>\n",
       "    </tr>\n",
       "    <tr>\n",
       "      <th>3</th>\n",
       "      <td>69.24</td>\n",
       "      <td>0.00</td>\n",
       "      <td>19.13</td>\n",
       "      <td>8.82</td>\n",
       "      <td>4.39</td>\n",
       "      <td>1.8</td>\n",
       "      <td>40.26</td>\n",
       "    </tr>\n",
       "    <tr>\n",
       "      <th>4</th>\n",
       "      <td>45.00</td>\n",
       "      <td>0.00</td>\n",
       "      <td>12.00</td>\n",
       "      <td>2.00</td>\n",
       "      <td>4.00</td>\n",
       "      <td>1.0</td>\n",
       "      <td>26.60</td>\n",
       "    </tr>\n",
       "  </tbody>\n",
       "</table>\n",
       "</div>"
      ],
      "text/plain": [
       "        0     1      2      3      4    5       6\n",
       "0   61.50  0.00  16.00   5.00  19.00  3.0   40.75\n",
       "1  390.97  0.57  79.08  22.18  90.42  6.1  266.29\n",
       "2    0.00  0.00   2.00   0.00   5.00  0.0    2.00\n",
       "3   69.24  0.00  19.13   8.82   4.39  1.8   40.26\n",
       "4   45.00  0.00  12.00   2.00   4.00  1.0   26.60"
      ]
     },
     "execution_count": 33,
     "metadata": {},
     "output_type": "execute_result"
    }
   ],
   "source": [
    "x_train.reset_index(inplace = True, drop = True) \n",
    "x_test.reset_index(inplace = True, drop = True) \n",
    "y_train.reset_index(inplace = True, drop = True) \n",
    "y_test.reset_index(inplace = True, drop = True) \n",
    "x_train.columns=[0,1,2,3,4,5,6]\n",
    "n=x_train.count()[0]\n",
    "x_train.head()"
   ]
  },
  {
   "cell_type": "code",
   "execution_count": 34,
   "metadata": {},
   "outputs": [],
   "source": [
    "sum_x1=0\n",
    "sum_x2=0\n",
    "sum_x3=0\n",
    "sum_x4=0\n",
    "sum_x5=0\n",
    "sum_x6=0\n",
    "sum_x7=0\n",
    "sum_y1=0\n",
    "sum_x1x1=0\n",
    "sum_x1x2=0\n",
    "sum_x1x3=0\n",
    "sum_x1x4=0\n",
    "sum_x1x5=0\n",
    "sum_x1x6=0\n",
    "sum_x1x7=0\n",
    "sum_x2x2=0\n",
    "sum_x2x3=0\n",
    "sum_x2x4=0\n",
    "sum_x2x5=0\n",
    "sum_x2x6=0\n",
    "sum_x2x7=0\n",
    "sum_x3x3=0\n",
    "sum_x3x4=0\n",
    "sum_x3x5=0\n",
    "sum_x3x6=0\n",
    "sum_x3x7=0\n",
    "sum_x4x4=0\n",
    "sum_x4x5=0\n",
    "sum_x4x6=0\n",
    "sum_x4x7=0\n",
    "sum_x5x5=0\n",
    "sum_x5x6=0\n",
    "sum_x5x7=0\n",
    "sum_x6x6=0\n",
    "sum_x6x7=0\n",
    "sum_x7x7=0\n",
    "sum_x1y1=0\n",
    "sum_x2y1=0\n",
    "sum_x3y1=0\n",
    "sum_x4y1=0\n",
    "sum_x5y1=0\n",
    "sum_x6y1=0\n",
    "sum_x7y1=0\n",
    "\n",
    "for i in range(0,n):\n",
    "    sum_x1=sum_x1+x_train[0][i]\n",
    "    sum_x2=sum_x2+x_train[1][i]\n",
    "    sum_x3=sum_x3+x_train[2][i]\n",
    "    sum_x4=sum_x4+x_train[3][i]\n",
    "    sum_x5=sum_x5+x_train[4][i]\n",
    "    sum_x6=sum_x6+x_train[5][i]\n",
    "    sum_x7=sum_x7+x_train[6][i]\n",
    "    sum_y1=sum_y1+y_train[i]\n",
    "    sum_x1x1=sum_x1x1+x_train[0][i]*x_train[0][i]\n",
    "    sum_x1x2=sum_x1x2+x_train[0][i]*x_train[1][i]\n",
    "    sum_x1x3=sum_x1x3+x_train[0][i]*x_train[2][i]\n",
    "    sum_x1x4=sum_x1x4+x_train[0][i]*x_train[3][i]\n",
    "    sum_x1x5=sum_x1x5+x_train[0][i]*x_train[4][i]\n",
    "    sum_x1x6=sum_x1x6+x_train[0][i]*x_train[5][i]\n",
    "    sum_x1x7=sum_x1x7+x_train[0][i]*x_train[6][i]\n",
    "    sum_x2x2=sum_x2x2+x_train[1][i]*x_train[1][i]\n",
    "    sum_x2x3=sum_x2x3+x_train[1][i]*x_train[2][i]\n",
    "    sum_x2x4=sum_x2x4+x_train[1][i]*x_train[3][i]\n",
    "    sum_x2x5=sum_x2x5+x_train[1][i]*x_train[4][i]\n",
    "    sum_x2x6=sum_x2x6+x_train[1][i]*x_train[5][i]\n",
    "    sum_x2x7=sum_x2x7+x_train[1][i]*x_train[6][i]\n",
    "    sum_x3x3=sum_x3x3+x_train[2][i]*x_train[2][i]\n",
    "    sum_x3x4=sum_x3x4+x_train[2][i]*x_train[3][i]\n",
    "    sum_x3x5=sum_x3x5+x_train[2][i]*x_train[4][i]\n",
    "    sum_x3x6=sum_x3x6+x_train[2][i]*x_train[5][i]\n",
    "    sum_x3x7=sum_x3x7+x_train[2][i]*x_train[6][i]\n",
    "    sum_x4x4=sum_x4x4+x_train[3][i]*x_train[3][i]\n",
    "    sum_x4x5=sum_x4x5+x_train[3][i]*x_train[4][i]\n",
    "    sum_x4x6=sum_x4x6+x_train[3][i]*x_train[5][i]\n",
    "    sum_x4x7=sum_x4x7+x_train[3][i]*x_train[6][i]\n",
    "    sum_x5x5=sum_x5x5+x_train[4][i]*x_train[4][i]\n",
    "    sum_x5x6=sum_x5x6+x_train[4][i]*x_train[5][i]\n",
    "    sum_x5x7=sum_x5x7+x_train[4][i]*x_train[6][i]\n",
    "    sum_x6x6=sum_x6x6+x_train[5][i]*x_train[5][i]\n",
    "    sum_x6x7=sum_x6x7+x_train[5][i]*x_train[6][i]\n",
    "    sum_x7x7=sum_x7x7+x_train[6][i]*x_train[6][i]\n",
    "    sum_x1y1=sum_x1y1+x_train[0][i]*y_train[i]\n",
    "    sum_x2y1=sum_x2y1+x_train[1][i]*y_train[i]\n",
    "    sum_x3y1=sum_x3y1+x_train[2][i]*y_train[i]\n",
    "    sum_x4y1=sum_x4y1+x_train[3][i]*y_train[i]\n",
    "    sum_x5y1=sum_x5y1+x_train[4][i]*y_train[i]\n",
    "    sum_x6y1=sum_x6y1+x_train[5][i]*y_train[i]\n",
    "    sum_x7y1=sum_x7y1+x_train[6][i]*y_train[i]"
   ]
  },
  {
   "cell_type": "code",
   "execution_count": 35,
   "metadata": {},
   "outputs": [],
   "source": [
    "from sklearn.linear_model import LinearRegression\n",
    "reg = LinearRegression().fit(x_train, y_train)"
   ]
  },
  {
   "cell_type": "code",
   "execution_count": 36,
   "metadata": {},
   "outputs": [
    {
     "data": {
      "text/plain": [
       "array([ 7.50383445e-04,  3.42176603e-02,  4.30142367e-03, -1.35505751e-02,\n",
       "        8.83105989e-05,  1.58216780e-03, -1.34171897e-03])"
      ]
     },
     "execution_count": 36,
     "metadata": {},
     "output_type": "execute_result"
    }
   ],
   "source": [
    "reg.coef_"
   ]
  },
  {
   "cell_type": "code",
   "execution_count": 37,
   "metadata": {},
   "outputs": [
    {
     "data": {
      "text/plain": [
       "-0.015362900520579703"
      ]
     },
     "execution_count": 37,
     "metadata": {},
     "output_type": "execute_result"
    }
   ],
   "source": [
    "reg.intercept_"
   ]
  },
  {
   "cell_type": "code",
   "execution_count": 38,
   "metadata": {},
   "outputs": [],
   "source": [
    "A = np.array([[n, sum_x1, sum_x2,sum_x3,sum_x4,sum_x5,sum_x6,sum_x7], \n",
    "              [sum_x1,sum_x1x1,sum_x1x2,sum_x1x3,sum_x1x4,sum_x1x5,sum_x1x6,sum_x1x7],\n",
    "              [sum_x2,sum_x1x2,sum_x2x2,sum_x2x3,sum_x2x4,sum_x2x5,sum_x2x6,sum_x2x7],\n",
    "              [sum_x3,sum_x1x3,sum_x2x3,sum_x3x3,sum_x3x4,sum_x3x5,sum_x3x6,sum_x3x7],\n",
    "              [sum_x4,sum_x1x4,sum_x2x4,sum_x3x4,sum_x4x4,sum_x4x5,sum_x4x6,sum_x4x7],\n",
    "              [sum_x5,sum_x1x5,sum_x2x5,sum_x3x5,sum_x4x5,sum_x5x5,sum_x5x6,sum_x5x7],\n",
    "              [sum_x6,sum_x1x6,sum_x2x6,sum_x3x6,sum_x4x6,sum_x5x6,sum_x6x6,sum_x6x7],\n",
    "              [sum_x7,sum_x1x7,sum_x2x7,sum_x3x7,sum_x4x7,sum_x5x7,sum_x6x7,sum_x7x7]])"
   ]
  },
  {
   "cell_type": "code",
   "execution_count": 39,
   "metadata": {},
   "outputs": [],
   "source": [
    "B=np.array([sum_y1, sum_x1y1, sum_x2y1,sum_x3y1,sum_x4y1,sum_x5y1,sum_x6y1,sum_x7y1])"
   ]
  },
  {
   "cell_type": "code",
   "execution_count": 40,
   "metadata": {},
   "outputs": [
    {
     "data": {
      "text/plain": [
       "array([[ 2.83618194e-02, -2.13629860e-05,  1.19124028e-03,\n",
       "        -8.93994434e-04,  4.11152340e-04,  5.29302888e-05,\n",
       "         3.52702440e-05,  1.60767915e-04],\n",
       "       [-2.13629860e-05,  3.90953686e-06, -3.50294850e-05,\n",
       "         5.82578754e-06, -3.63861221e-05, -9.23118096e-07,\n",
       "        -1.82690281e-05, -2.85490613e-06],\n",
       "       [ 1.19124028e-03, -3.50294850e-05,  1.22217784e-02,\n",
       "        -5.20951994e-05, -5.58718371e-04,  7.48175343e-05,\n",
       "         1.19628483e-03, -3.26601649e-05],\n",
       "       [-8.93994434e-04,  5.82578754e-06, -5.20951994e-05,\n",
       "         1.28990361e-04, -1.95893781e-04, -1.92935294e-06,\n",
       "        -4.90557361e-06, -2.62076665e-05],\n",
       "       [ 4.11152340e-04, -3.63861221e-05, -5.58718371e-04,\n",
       "        -1.95893781e-04,  8.70697744e-04, -5.83201302e-06,\n",
       "         3.71967015e-05,  4.45455486e-05],\n",
       "       [ 5.29302888e-05, -9.23118096e-07,  7.48175343e-05,\n",
       "        -1.92935294e-06, -5.83201302e-06,  1.84557581e-06,\n",
       "         4.11725256e-06,  6.29875313e-07],\n",
       "       [ 3.52702440e-05, -1.82690281e-05,  1.19628483e-03,\n",
       "        -4.90557361e-06,  3.71967015e-05,  4.11725256e-06,\n",
       "         8.78109385e-04, -1.97818205e-05],\n",
       "       [ 1.60767915e-04, -2.85490613e-06, -3.26601649e-05,\n",
       "        -2.62076665e-05,  4.45455486e-05,  6.29875313e-07,\n",
       "        -1.97818205e-05,  8.19362169e-06]])"
      ]
     },
     "execution_count": 40,
     "metadata": {},
     "output_type": "execute_result"
    }
   ],
   "source": [
    "from numpy.linalg import inv\n",
    "Inverse=inv(A)\n",
    "Inverse"
   ]
  },
  {
   "cell_type": "code",
   "execution_count": 41,
   "metadata": {},
   "outputs": [
    {
     "data": {
      "text/plain": [
       "array([[1, 0, 0, 0, 0, 0, 0, 0],\n",
       "       [0, 1, 0, 0, 0, 0, 0, 0],\n",
       "       [0, 0, 1, 0, 0, 0, 0, 0],\n",
       "       [0, 0, 0, 1, 0, 0, 0, 0],\n",
       "       [0, 0, 0, 0, 1, 0, 0, 0],\n",
       "       [0, 0, 0, 0, 0, 1, 0, 0],\n",
       "       [0, 0, 0, 0, 0, 0, 1, 0],\n",
       "       [0, 0, 0, 0, 0, 0, 0, 1]])"
      ]
     },
     "execution_count": 41,
     "metadata": {},
     "output_type": "execute_result"
    }
   ],
   "source": [
    "np.around(Inverse @ A).astype(int)"
   ]
  },
  {
   "cell_type": "code",
   "execution_count": 42,
   "metadata": {},
   "outputs": [],
   "source": [
    "w0=Inverse[0][0]*B[0]+Inverse[0][1]*B[1]+Inverse[0][2]*B[2]+Inverse[0][3]*B[3]+Inverse[0][4]*B[4]+Inverse[0][5]*B[5]+Inverse[0][6]*B[6]+Inverse[0][7]*B[7]"
   ]
  },
  {
   "cell_type": "code",
   "execution_count": 43,
   "metadata": {},
   "outputs": [],
   "source": [
    "w1=Inverse[1][0]*B[0]+Inverse[1][1]*B[1]+Inverse[1][2]*B[2]+Inverse[1][3]*B[3]+Inverse[1][4]*B[4]+Inverse[1][5]*B[5]+Inverse[1][6]*B[6]+Inverse[1][7]*B[7]"
   ]
  },
  {
   "cell_type": "code",
   "execution_count": 44,
   "metadata": {},
   "outputs": [],
   "source": [
    "w2=Inverse[2][0]*B[0]+Inverse[2][1]*B[1]+Inverse[2][2]*B[2]+Inverse[2][3]*B[3]+Inverse[2][4]*B[4]+Inverse[2][5]*B[5]+Inverse[2][6]*B[6]+Inverse[2][7]*B[7]"
   ]
  },
  {
   "cell_type": "code",
   "execution_count": 45,
   "metadata": {},
   "outputs": [],
   "source": [
    "w3=Inverse[3][0]*B[0]+Inverse[3][1]*B[1]+Inverse[3][2]*B[2]+Inverse[3][3]*B[3]+Inverse[3][4]*B[4]+Inverse[3][5]*B[5]+Inverse[3][6]*B[6]+Inverse[3][7]*B[7]"
   ]
  },
  {
   "cell_type": "code",
   "execution_count": 46,
   "metadata": {},
   "outputs": [],
   "source": [
    "w4=Inverse[4][0]*B[0]+Inverse[4][1]*B[1]+Inverse[4][2]*B[2]+Inverse[4][3]*B[3]+Inverse[4][4]*B[4]+Inverse[4][5]*B[5]+Inverse[4][6]*B[6]+Inverse[4][7]*B[7]"
   ]
  },
  {
   "cell_type": "code",
   "execution_count": 47,
   "metadata": {},
   "outputs": [],
   "source": [
    "w5=Inverse[5][0]*B[0]+Inverse[5][1]*B[1]+Inverse[5][2]*B[2]+Inverse[5][3]*B[3]+Inverse[5][4]*B[4]+Inverse[5][5]*B[5]+Inverse[5][6]*B[6]+Inverse[5][7]*B[7]"
   ]
  },
  {
   "cell_type": "code",
   "execution_count": 48,
   "metadata": {},
   "outputs": [],
   "source": [
    "w6=Inverse[6][0]*B[0]+Inverse[6][1]*B[1]+Inverse[6][2]*B[2]+Inverse[6][3]*B[3]+Inverse[6][4]*B[4]+Inverse[6][5]*B[5]+Inverse[6][6]*B[6]+Inverse[6][7]*B[7]"
   ]
  },
  {
   "cell_type": "code",
   "execution_count": 49,
   "metadata": {},
   "outputs": [],
   "source": [
    "w7=Inverse[7][0]*B[0]+Inverse[7][1]*B[1]+Inverse[7][2]*B[2]+Inverse[7][3]*B[3]+Inverse[7][4]*B[4]+Inverse[7][5]*B[5]+Inverse[7][6]*B[6]+Inverse[7][7]*B[7]"
   ]
  },
  {
   "cell_type": "code",
   "execution_count": 50,
   "metadata": {},
   "outputs": [],
   "source": [
    "W=np.array([w0,w1,w2,w3,w4,w5,w6,w7])"
   ]
  },
  {
   "cell_type": "code",
   "execution_count": 51,
   "metadata": {},
   "outputs": [
    {
     "data": {
      "text/plain": [
       "array([-1.53629005e-02,  7.50383445e-04,  3.42176603e-02,  4.30142367e-03,\n",
       "       -1.35505751e-02,  8.83105989e-05,  1.58216780e-03, -1.34171897e-03])"
      ]
     },
     "execution_count": 51,
     "metadata": {},
     "output_type": "execute_result"
    }
   ],
   "source": [
    "W"
   ]
  },
  {
   "cell_type": "code",
   "execution_count": 52,
   "metadata": {},
   "outputs": [
    {
     "data": {
      "text/html": [
       "<div>\n",
       "<style scoped>\n",
       "    .dataframe tbody tr th:only-of-type {\n",
       "        vertical-align: middle;\n",
       "    }\n",
       "\n",
       "    .dataframe tbody tr th {\n",
       "        vertical-align: top;\n",
       "    }\n",
       "\n",
       "    .dataframe thead th {\n",
       "        text-align: right;\n",
       "    }\n",
       "</style>\n",
       "<table border=\"1\" class=\"dataframe\">\n",
       "  <thead>\n",
       "    <tr style=\"text-align: right;\">\n",
       "      <th></th>\n",
       "      <th>0</th>\n",
       "      <th>1</th>\n",
       "      <th>2</th>\n",
       "      <th>3</th>\n",
       "      <th>4</th>\n",
       "      <th>5</th>\n",
       "      <th>6</th>\n",
       "    </tr>\n",
       "  </thead>\n",
       "  <tbody>\n",
       "    <tr>\n",
       "      <th>0</th>\n",
       "      <td>409.92</td>\n",
       "      <td>0.00</td>\n",
       "      <td>91.92</td>\n",
       "      <td>20.34</td>\n",
       "      <td>115.68</td>\n",
       "      <td>20.45</td>\n",
       "      <td>338.00</td>\n",
       "    </tr>\n",
       "    <tr>\n",
       "      <th>1</th>\n",
       "      <td>186.47</td>\n",
       "      <td>0.45</td>\n",
       "      <td>53.08</td>\n",
       "      <td>12.87</td>\n",
       "      <td>22.61</td>\n",
       "      <td>7.60</td>\n",
       "      <td>134.18</td>\n",
       "    </tr>\n",
       "    <tr>\n",
       "      <th>2</th>\n",
       "      <td>212.37</td>\n",
       "      <td>2.00</td>\n",
       "      <td>44.71</td>\n",
       "      <td>8.00</td>\n",
       "      <td>164.47</td>\n",
       "      <td>10.80</td>\n",
       "      <td>213.16</td>\n",
       "    </tr>\n",
       "    <tr>\n",
       "      <th>3</th>\n",
       "      <td>159.03</td>\n",
       "      <td>0.00</td>\n",
       "      <td>39.97</td>\n",
       "      <td>12.21</td>\n",
       "      <td>17.79</td>\n",
       "      <td>5.72</td>\n",
       "      <td>118.71</td>\n",
       "    </tr>\n",
       "    <tr>\n",
       "      <th>4</th>\n",
       "      <td>52.55</td>\n",
       "      <td>0.00</td>\n",
       "      <td>14.45</td>\n",
       "      <td>3.82</td>\n",
       "      <td>18.82</td>\n",
       "      <td>2.00</td>\n",
       "      <td>26.27</td>\n",
       "    </tr>\n",
       "  </tbody>\n",
       "</table>\n",
       "</div>"
      ],
      "text/plain": [
       "        0     1      2      3       4      5       6\n",
       "0  409.92  0.00  91.92  20.34  115.68  20.45  338.00\n",
       "1  186.47  0.45  53.08  12.87   22.61   7.60  134.18\n",
       "2  212.37  2.00  44.71   8.00  164.47  10.80  213.16\n",
       "3  159.03  0.00  39.97  12.21   17.79   5.72  118.71\n",
       "4   52.55  0.00  14.45   3.82   18.82   2.00   26.27"
      ]
     },
     "execution_count": 52,
     "metadata": {},
     "output_type": "execute_result"
    }
   ],
   "source": [
    "x_test.columns=[0,1,2,3,4,5,6]\n",
    "x_test.head()"
   ]
  },
  {
   "cell_type": "code",
   "execution_count": 53,
   "metadata": {},
   "outputs": [],
   "source": [
    "y_pred=w0+x_test[0]*w1+x_test[1]*w2+x_test[2]*w3+x_test[3]*w4+x_test[4]*w5+x_test[5]*w6+x_test[6]*w7"
   ]
  },
  {
   "cell_type": "code",
   "execution_count": 54,
   "metadata": {},
   "outputs": [
    {
     "data": {
      "text/plain": [
       "0.02052517079256576"
      ]
     },
     "execution_count": 54,
     "metadata": {},
     "output_type": "execute_result"
    }
   ],
   "source": [
    "from sklearn.metrics import mean_squared_error\n",
    "mean_squared_error(y_test, y_pred)"
   ]
  },
  {
   "cell_type": "code",
   "execution_count": 55,
   "metadata": {},
   "outputs": [],
   "source": [
    "results=pd.DataFrame(W)"
   ]
  },
  {
   "cell_type": "code",
   "execution_count": 56,
   "metadata": {},
   "outputs": [],
   "source": [
    "results.to_csv('LR_results', mode='a', index = False, header=None)"
   ]
  },
  {
   "cell_type": "code",
   "execution_count": 246,
   "metadata": {},
   "outputs": [],
   "source": []
  },
  {
   "cell_type": "code",
   "execution_count": 236,
   "metadata": {},
   "outputs": [],
   "source": []
  },
  {
   "cell_type": "code",
   "execution_count": null,
   "metadata": {},
   "outputs": [],
   "source": []
  }
 ],
 "metadata": {
  "kernelspec": {
   "display_name": "Python 3",
   "language": "python",
   "name": "python3"
  },
  "language_info": {
   "codemirror_mode": {
    "name": "ipython",
    "version": 3
   },
   "file_extension": ".py",
   "mimetype": "text/x-python",
   "name": "python",
   "nbconvert_exporter": "python",
   "pygments_lexer": "ipython3",
   "version": "3.7.3"
  }
 },
 "nbformat": 4,
 "nbformat_minor": 2
}
