{
 "cells": [
  {
   "cell_type": "code",
   "execution_count": 232,
   "metadata": {},
   "outputs": [
    {
     "name": "stderr",
     "output_type": "stream",
     "text": [
      "UsageError: Line magic function `%` not found.\n"
     ]
    }
   ],
   "source": [
    "import pandas as pd\n",
    "from sklearn.model_selection import KFold\n",
    "from sklearn.preprocessing import MinMaxScaler\n",
    "from sklearn.svm import SVR\n",
    "import numpy as np\n",
    "from numpy.linalg import inv\n",
    "from sklearn.linear_model import LinearRegression\n",
    "from sklearn.metrics import mean_squared_error\n",
    "import matplotlib.pyplot as plt  \n",
    "% matplotlib inline \n",
    "df=pd.read_excel(\"1.xlsx\",header=None)"
   ]
  },
  {
   "cell_type": "code",
   "execution_count": 233,
   "metadata": {},
   "outputs": [],
   "source": [
    "X=df[[67,20,3,72,74,35,68]].iloc[:][1:]"
   ]
  },
  {
   "cell_type": "code",
   "execution_count": 234,
   "metadata": {},
   "outputs": [],
   "source": [
    "y=df[82].iloc[:][1:]"
   ]
  },
  {
   "cell_type": "code",
   "execution_count": 235,
   "metadata": {},
   "outputs": [],
   "source": [
    "X.reset_index(inplace = True, drop = True) \n",
    "y.reset_index(inplace = True, drop = True) \n",
    "X.columns=[0,1,2,3,4,5,6]\n"
   ]
  },
  {
   "cell_type": "code",
   "execution_count": 236,
   "metadata": {},
   "outputs": [],
   "source": [
    "scaler = MinMaxScaler(feature_range=(0, 1))\n",
    "X = scaler.fit_transform(X)\n",
    "#This technique re-scales the data between a specified range(in this case, between 0–1), to ensure that certain features do not affect the final prediction more than the other features."
   ]
  },
  {
   "cell_type": "code",
   "execution_count": 237,
   "metadata": {},
   "outputs": [
    {
     "data": {
      "text/plain": [
       "<matplotlib.axes._subplots.AxesSubplot at 0x1ff9277d898>"
      ]
     },
     "execution_count": 237,
     "metadata": {},
     "output_type": "execute_result"
    },
    {
     "data": {
      "image/png": "[encoded data removed]",
      "text/plain": [
       "<Figure size 432x288 with 1 Axes>"
      ]
     },
     "metadata": {
      "needs_background": "light"
     },
     "output_type": "display_data"
    }
   ],
   "source": [
    "cv = KFold(n_splits=5, random_state=42, shuffle=False)\n",
    "ans=0\n",
    "Results=np.zeros(6)\n",
    "TotalMSE=0\n",
    "for train_index, test_index in cv.split(X):\n",
    "\n",
    "    x_train, x_test, y_train, y_test = X[train_index], X[test_index], y[train_index], y[test_index]\n",
    "    x_train=pd.DataFrame(x_train)\n",
    "    x_train.reset_index(inplace = True, drop = True) \n",
    "    x_train.columns=[0,1,2,3,4,5,6]\n",
    "    x_test=pd.DataFrame(x_test)\n",
    "    x_test.reset_index(inplace = True, drop = True) \n",
    "    x_test.columns=[0,1,2,3,4,5,6]\n",
    "    y_train.reset_index(inplace = True, drop = True) \n",
    "    y_test.reset_index(inplace = True, drop = True) \n",
    "    sum_x1=0\n",
    "    sum_x2=0\n",
    "    sum_x3=0\n",
    "    sum_x4=0\n",
    "    sum_x5=0\n",
    "    sum_x6=0\n",
    "    sum_x7=0\n",
    "    sum_y1=0\n",
    "    sum_x1x1=0\n",
    "    sum_x1x2=0\n",
    "    sum_x1x3=0\n",
    "    sum_x1x4=0\n",
    "    sum_x1x5=0\n",
    "    sum_x1x6=0\n",
    "    sum_x1x7=0\n",
    "    sum_x2x2=0\n",
    "    sum_x2x3=0\n",
    "    sum_x2x4=0\n",
    "    sum_x2x5=0\n",
    "    sum_x2x6=0\n",
    "    sum_x2x7=0\n",
    "    sum_x3x3=0\n",
    "    sum_x3x4=0\n",
    "    sum_x3x5=0\n",
    "    sum_x3x6=0\n",
    "    sum_x3x7=0\n",
    "    sum_x4x4=0\n",
    "    sum_x4x5=0\n",
    "    sum_x4x6=0\n",
    "    sum_x4x7=0\n",
    "    sum_x5x5=0\n",
    "    sum_x5x6=0\n",
    "    sum_x5x7=0\n",
    "    sum_x6x6=0\n",
    "    sum_x6x7=0\n",
    "    sum_x7x7=0\n",
    "    sum_x1y1=0\n",
    "    sum_x2y1=0\n",
    "    sum_x3y1=0\n",
    "    sum_x4y1=0\n",
    "    sum_x5y1=0\n",
    "    sum_x6y1=0\n",
    "    sum_x7y1=0\n",
    "    n=x_train.count()[0]\n",
    "    for i in range(0,n):\n",
    "        sum_x1=sum_x1+x_train[0][i]\n",
    "        sum_x2=sum_x2+x_train[1][i]\n",
    "        sum_x3=sum_x3+x_train[2][i]\n",
    "        sum_x4=sum_x4+x_train[3][i]\n",
    "        sum_x5=sum_x5+x_train[4][i]\n",
    "        sum_x6=sum_x6+x_train[5][i]\n",
    "        sum_x7=sum_x7+x_train[6][i]\n",
    "        sum_y1=sum_y1+y_train[i]\n",
    "        sum_x1x1=sum_x1x1+x_train[0][i]*x_train[0][i]\n",
    "        sum_x1x2=sum_x1x2+x_train[0][i]*x_train[1][i]\n",
    "        sum_x1x3=sum_x1x3+x_train[0][i]*x_train[2][i]\n",
    "        sum_x1x4=sum_x1x4+x_train[0][i]*x_train[3][i]\n",
    "        sum_x1x5=sum_x1x5+x_train[0][i]*x_train[4][i]\n",
    "        sum_x1x6=sum_x1x6+x_train[0][i]*x_train[5][i]\n",
    "        sum_x1x7=sum_x1x7+x_train[0][i]*x_train[6][i]\n",
    "        sum_x2x2=sum_x2x2+x_train[1][i]*x_train[1][i]\n",
    "        sum_x2x3=sum_x2x3+x_train[1][i]*x_train[2][i]\n",
    "        sum_x2x4=sum_x2x4+x_train[1][i]*x_train[3][i]\n",
    "        sum_x2x5=sum_x2x5+x_train[1][i]*x_train[4][i]\n",
    "        sum_x2x6=sum_x2x6+x_train[1][i]*x_train[5][i]\n",
    "        sum_x2x7=sum_x2x7+x_train[1][i]*x_train[6][i]\n",
    "        sum_x3x3=sum_x3x3+x_train[2][i]*x_train[2][i]\n",
    "        sum_x3x4=sum_x3x4+x_train[2][i]*x_train[3][i]\n",
    "        sum_x3x5=sum_x3x5+x_train[2][i]*x_train[4][i]\n",
    "        sum_x3x6=sum_x3x6+x_train[2][i]*x_train[5][i]\n",
    "        sum_x3x7=sum_x3x7+x_train[2][i]*x_train[6][i]\n",
    "        sum_x4x4=sum_x4x4+x_train[3][i]*x_train[3][i]\n",
    "        sum_x4x5=sum_x4x5+x_train[3][i]*x_train[4][i]\n",
    "        sum_x4x6=sum_x4x6+x_train[3][i]*x_train[5][i]\n",
    "        sum_x4x7=sum_x4x7+x_train[3][i]*x_train[6][i]\n",
    "        sum_x5x5=sum_x5x5+x_train[4][i]*x_train[4][i]\n",
    "        sum_x5x6=sum_x5x6+x_train[4][i]*x_train[5][i]\n",
    "        sum_x5x7=sum_x5x7+x_train[4][i]*x_train[6][i]\n",
    "        sum_x6x6=sum_x6x6+x_train[5][i]*x_train[5][i]\n",
    "        sum_x6x7=sum_x6x7+x_train[5][i]*x_train[6][i]\n",
    "        sum_x7x7=sum_x7x7+x_train[6][i]*x_train[6][i]\n",
    "        sum_x1y1=sum_x1y1+x_train[0][i]*y_train[i]\n",
    "        sum_x2y1=sum_x2y1+x_train[1][i]*y_train[i]\n",
    "        sum_x3y1=sum_x3y1+x_train[2][i]*y_train[i]\n",
    "        sum_x4y1=sum_x4y1+x_train[3][i]*y_train[i]\n",
    "        sum_x5y1=sum_x5y1+x_train[4][i]*y_train[i]\n",
    "        sum_x6y1=sum_x6y1+x_train[5][i]*y_train[i]\n",
    "        sum_x7y1=sum_x7y1+x_train[6][i]*y_train[i]\n",
    "    A = np.array([[n, sum_x1, sum_x2,sum_x3,sum_x4,sum_x5,sum_x6,sum_x7], \n",
    "              [sum_x1,sum_x1x1,sum_x1x2,sum_x1x3,sum_x1x4,sum_x1x5,sum_x1x6,sum_x1x7],\n",
    "              [sum_x2,sum_x1x2,sum_x2x2,sum_x2x3,sum_x2x4,sum_x2x5,sum_x2x6,sum_x2x7],\n",
    "              [sum_x3,sum_x1x3,sum_x2x3,sum_x3x3,sum_x3x4,sum_x3x5,sum_x3x6,sum_x3x7],\n",
    "              [sum_x4,sum_x1x4,sum_x2x4,sum_x3x4,sum_x4x4,sum_x4x5,sum_x4x6,sum_x4x7],\n",
    "              [sum_x5,sum_x1x5,sum_x2x5,sum_x3x5,sum_x4x5,sum_x5x5,sum_x5x6,sum_x5x7],\n",
    "              [sum_x6,sum_x1x6,sum_x2x6,sum_x3x6,sum_x4x6,sum_x5x6,sum_x6x6,sum_x6x7],\n",
    "              [sum_x7,sum_x1x7,sum_x2x7,sum_x3x7,sum_x4x7,sum_x5x7,sum_x6x7,sum_x7x7]])\n",
    "    B=np.array([sum_y1, sum_x1y1, sum_x2y1,sum_x3y1,sum_x4y1,sum_x5y1,sum_x6y1,sum_x7y1])\n",
    "    Inverse=inv(A)\n",
    "    w0=Inverse[0][0]*B[0]+Inverse[0][1]*B[1]+Inverse[0][2]*B[2]+Inverse[0][3]*B[3]+Inverse[0][4]*B[4]+Inverse[0][5]*B[5]+Inverse[0][6]*B[6]+Inverse[0][7]*B[7]\n",
    "    w1=Inverse[1][0]*B[0]+Inverse[1][1]*B[1]+Inverse[1][2]*B[2]+Inverse[1][3]*B[3]+Inverse[1][4]*B[4]+Inverse[1][5]*B[5]+Inverse[1][6]*B[6]+Inverse[1][7]*B[7]\n",
    "    w2=Inverse[2][0]*B[0]+Inverse[2][1]*B[1]+Inverse[2][2]*B[2]+Inverse[2][3]*B[3]+Inverse[2][4]*B[4]+Inverse[2][5]*B[5]+Inverse[2][6]*B[6]+Inverse[2][7]*B[7]\n",
    "    w3=Inverse[3][0]*B[0]+Inverse[3][1]*B[1]+Inverse[3][2]*B[2]+Inverse[3][3]*B[3]+Inverse[3][4]*B[4]+Inverse[3][5]*B[5]+Inverse[3][6]*B[6]+Inverse[3][7]*B[7]\n",
    "    w4=Inverse[4][0]*B[0]+Inverse[4][1]*B[1]+Inverse[4][2]*B[2]+Inverse[4][3]*B[3]+Inverse[4][4]*B[4]+Inverse[4][5]*B[5]+Inverse[4][6]*B[6]+Inverse[4][7]*B[7]\n",
    "    w5=Inverse[5][0]*B[0]+Inverse[5][1]*B[1]+Inverse[5][2]*B[2]+Inverse[5][3]*B[3]+Inverse[5][4]*B[4]+Inverse[5][5]*B[5]+Inverse[5][6]*B[6]+Inverse[5][7]*B[7]\n",
    "    w6=Inverse[6][0]*B[0]+Inverse[6][1]*B[1]+Inverse[6][2]*B[2]+Inverse[6][3]*B[3]+Inverse[6][4]*B[4]+Inverse[6][5]*B[5]+Inverse[6][6]*B[6]+Inverse[6][7]*B[7]\n",
    "    w7=Inverse[7][0]*B[0]+Inverse[7][1]*B[1]+Inverse[7][2]*B[2]+Inverse[7][3]*B[3]+Inverse[7][4]*B[4]+Inverse[7][5]*B[5]+Inverse[7][6]*B[6]+Inverse[7][7]*B[7]\n",
    "    x_test.columns=[0,1,2,3,4,5,6]\n",
    "    y_pred=w0+x_test[0]*w1+x_test[1]*w2+x_test[2]*w3+x_test[3]*w4+x_test[4]*w5+x_test[5]*w6+x_test[6]*w7\n",
    "    m=x_test[0].count()\n",
    "    MSE=0\n",
    "    for i in range(0,m):\n",
    "        MSE=MSE+(y_test[i]-y_pred[i])*(y_test[i]-y_pred[i])\n",
    "    TotalMSE=TotalMSE+MSE\n",
    "    Results[ans]=MSE\n",
    "    ans=ans+1\n",
    "Results[ans]=TotalMSE/5\n",
    "Results=pd.DataFrame(Results)\n",
    "Results.to_csv('LR_crossvalidation_performance', mode='a', index = False, header=None)\n",
    "Results.boxplot()"
   ]
  },
  {
   "cell_type": "code",
   "execution_count": 238,
   "metadata": {},
   "outputs": [
    {
     "data": {
      "image/png": "[encoded data removed]",
      "text/plain": [
       "<Figure size 648x432 with 1 Axes>"
      ]
     },
     "metadata": {
      "needs_background": "light"
     },
     "output_type": "display_data"
    }
   ],
   "source": [
    "X=df.iloc[1:,0:82]\n",
    "y=df[82].iloc[:][1:]\n",
    "X=np.array(X)\n",
    "y=np.array(y)\n",
    "cv = KFold(n_splits=5, random_state=42, shuffle=False)\n",
    "ans=0\n",
    "Res=np.zeros(6)\n",
    "TotalMSE=0\n",
    "\n",
    "for train_index, test_index in cv.split(X):\n",
    "    #train_index and test_index are indices of rows in training and testing data\n",
    "    \n",
    "    x_train, x_test, y_train, y_test = X[train_index], X[test_index], y[train_index], y[test_index]\n",
    "    reg = LinearRegression().fit(x_train, y_train)\n",
    "    b=reg.intercept_\n",
    "    a=reg.coef_\n",
    "    y_pred = reg.predict(x_test)\n",
    "    m=pd.DataFrame(x_test)[0].count()\n",
    "    MSE=0\n",
    "    for i in range(0,m):\n",
    "        MSE=MSE+(y_test[i]-y_pred[i])*(y_test[i]-y_pred[i])\n",
    "    TotalMSE=TotalMSE+MSE\n",
    "    Res[ans]=MSE\n",
    "    ans=ans+1\n",
    "Res[ans]=TotalMSE/5\n",
    "Res=pd.DataFrame(Res)\n",
    "Res.to_csv('LR_crossvalidation_performance', mode='a', index = False, header=None)\n",
    "Results=np.array(Results)\n",
    "Res=np.array(Res)\n",
    "Results=Results.flatten()\n",
    "Res=Res.flatten()\n",
    "Results=Results[0:5]\n",
    "Res=Res[0:5]\n",
    "data=[Results,Res]\n",
    "fig = plt.figure(1, figsize=(9, 6))\n",
    "\n",
    "# Create an axes instance\n",
    "ax = fig.add_subplot(111)\n",
    "\n",
    "# Create the boxplot\n",
    "bp = ax.boxplot(data, patch_artist=True)\n",
    "ax.set_xticklabels(['logn', 'all'])\n",
    "\n",
    "# Save the figure\n",
    "fig.savefig('fig1.png', bbox_inches='tight')"
   ]
  },
  {
   "cell_type": "code",
   "execution_count": 239,
   "metadata": {},
   "outputs": [
    {
     "data": {
      "text/plain": [
       "array([1.63298205, 3.06128615, 4.26112355, 1.60256214, 1.23419996])"
      ]
     },
     "execution_count": 239,
     "metadata": {},
     "output_type": "execute_result"
    }
   ],
   "source": [
    "Res"
   ]
  },
  {
   "cell_type": "code",
   "execution_count": 240,
   "metadata": {},
   "outputs": [
    {
     "data": {
      "text/plain": [
       "array([1.12914429, 1.98731314, 4.05793998, 1.67252157, 0.1555571 ])"
      ]
     },
     "execution_count": 240,
     "metadata": {},
     "output_type": "execute_result"
    }
   ],
   "source": [
    "Results"
   ]
  },
  {
   "cell_type": "code",
   "execution_count": null,
   "metadata": {},
   "outputs": [],
   "source": []
  }
 ],
 "metadata": {
  "kernelspec": {
   "display_name": "Python 3",
   "language": "python",
   "name": "python3"
  },
  "language_info": {
   "codemirror_mode": {
    "name": "ipython",
    "version": 3
   },
   "file_extension": ".py",
   "mimetype": "text/x-python",
   "name": "python",
   "nbconvert_exporter": "python",
   "pygments_lexer": "ipython3",
   "version": "3.7.3"
  }
 },
 "nbformat": 4,
 "nbformat_minor": 2
}
